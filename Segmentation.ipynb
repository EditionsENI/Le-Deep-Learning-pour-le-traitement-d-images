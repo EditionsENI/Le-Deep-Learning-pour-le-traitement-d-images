{
 "cells": [
  {
   "cell_type": "markdown",
   "metadata": {
    "id": "LgNY4Ko8sw7q"
   },
   "source": [
    "# Implémentation de U-Net avec Keras\n",
    "\n",
    "U-Net est une architecture très utilisée pour la segmentation. \n",
    "\n",
    "Cette architecture est à la fois efficace, et simple à implémenter. \n",
    "\n",
    "Dans ce notebook, nous allons implémenter un réseau de segmentation U-Net pour réaliser la segmentation sémantique sur le jeu de données *Oxford-IIIT Pet Dataset*. Ce jeu de données contient plus de 7000 images de chats et de chiens, ainsi que leurs masques de segmentation.\n",
    "\n",
    "La difficulté principale de ce notebook réside dans le chargement des données. Ces dernières sont au format ```tf.data```, un format très efficace mais peu évident à prendre en main. \n",
    "\n",
    "Les étapes sont les suivantes :\n",
    "- [Import des paquets nécessaires](#imports)\n",
    "- [Chargement des données](#donnees)\n",
    "- [Construction du modèle U-Net](#construction_modele)\n",
    "- [Entraînement du modèle U-Net](#entrainement_modele)\n",
    "- [Application du modèle à une image](#application)\n",
    "- [A vous de jouer](#avousdejouer)"
   ]
  },
  {
   "cell_type": "markdown",
   "metadata": {},
   "source": [
    "## Imports des paquets nécessaires\n",
    "<a id='imports'></a>\n",
    "\n",
    "Nous commençons par importer les paquets nécessaires pour ce notebook.\n",
    "\n",
    "La commande ```%matplotlib inline``` permet d'afficher les graphiques de matplotlib avec la bibliothèque graphique intégrée à Notebook. Sans cette commande, les graphiques générés avec matplotlib ne s'afficheront pas.\n",
    "\n",
    "Les bibliothèques suivantes sont importées : \n",
    "\n",
    "- ```Matplotlib``` nous servira à afficher les images originales et leurs masques de segmentation avec les objets détectés ;\n",
    "- ```Numpy``` sert à faire des calculs matriciels. Dans ce notebook, nous nous en servirons uniquement pour réaliser un échantillonnage aléatoire d'images à afficher ;\n",
    "- ```TensorFlow``` et son module ```Keras``` permettent de créer une nouvelle architecture et d'entraîner le modèle ;\n",
    "- Le module ```Tensorflow_datasets``` permet de charger, manipuler et prétraiter des jeux de données."
   ]
  },
  {
   "cell_type": "code",
   "execution_count": 1,
   "metadata": {
    "id": "5M_beaaBpjNP"
   },
   "outputs": [],
   "source": [
    "%matplotlib inline\n",
    "\n",
    "import matplotlib.pyplot as plt\n",
    "import numpy as np\n",
    "import tensorflow as tf\n",
    "from tensorflow import keras\n",
    "from tensorflow.keras import layers\n",
    "import tensorflow_datasets as tfds"
   ]
  },
  {
   "cell_type": "markdown",
   "metadata": {
    "id": "pX631zhEouf4"
   },
   "source": [
    "## Chargement des données\n",
    "<a id='donnees'></a>"
   ]
  },
  {
   "cell_type": "markdown",
   "metadata": {
    "id": "2AR5ZItbpc9R"
   },
   "source": [
    "### Chargement des données depuis le module TFDS\n",
    "\n",
    "Le jeu de données *Oxford-IIIT Pet Dataset* contient 7349 images de chiens et chiens, ainsi que les informations suivantes pour chaque image :\n",
    "- une étiquette indiquant la race de l'animal parmi 37 races représentées ;\n",
    "- une étiquette indiquant l'espèce de l'animal (chien ou chat) ;\n",
    "- un masque de segmentation. \n",
    "\n",
    "Nous le chargeons en utilisant la fonction ```load``` du module TFDS. Cette fonction prend en entrée deux arguments :\n",
    "- le nom du jeu de données ; ici, ```oxford_iiit_pet```. Nous précisons également que nous voulons la version 3 de ce jeu de données, et n'importe quelle sous-version. La version disponible au moment de l'écriture de ce notebook est la version 3.2.0 ;\n",
    "- l'option ```with_info=True```. Ceci nous permet d'obtenir en sortie le tuple (ds, ds_info), qui contient non seulement les données, mais également des informations les décrivant (la version du jeu de données, les étiquettes, les plis éventuels, le nombre d'images, etc. ). "
   ]
  },
  {
   "cell_type": "code",
   "execution_count": 2,
   "metadata": {
    "colab": {
     "base_uri": "https://localhost:8080/",
     "height": 325,
     "referenced_widgets": [
      "23e94fd0de6e474ca8045d48077b4a54",
      "fd2b72c12dda4a1795d8e393e72e4ef9",
      "5314e625437a4063976fe92dd080057c",
      "6b5cc024c77b4db68e40355a7bb42cd2",
      "6ade743edc774108b72ce70904110f38",
      "7048ef40e4b8498ca0eaacec5a93c782",
      "32904c8ee03b4598a6de6dda4b17cf84",
      "7148b25353984792bd376b2e82339309",
      "118bd3d50d4e4b2b8297d0f821135f57",
      "cd91675d50f244de8c438a6ed5108975",
      "94cfb87411314d6ab5be41d2ff5e37c6",
      "7b8ccd636ecc44418fdcfb9deef219a7",
      "e3092bcf619649609cbc28ef15fa4d54",
      "6af765f25ec54d6dbc63f96b0576a3f1",
      "3442287cbd034122915e2627270aeb8d",
      "e593cde9c4224d12a7df6303bb4520a5",
      "481461d346cd473892fd1f2397183843",
      "88c304a2ffc542ccbfbb0dec0132d33d",
      "2dba6a79e1e0464aa83792f4bd8a7101",
      "9593757700bf466bb4f34268774c7ca0",
      "0a695a7240fe4c0a947cd36c1948d308",
      "34ea1291673344eebd58bd2d30b24610",
      "493022dc5889447784e6ec7b8eecdee0",
      "29358fe1830e4c6bb704f43569d36b7a",
      "a4800f0691a8494eb5d649320658c81e",
      "2d72975ea468400dac4bc799a6083008",
      "980868db6c6146a1b112e4e06a007485",
      "d1fa370418a44c8bb82b0a396933d01f",
      "da77bc1828e4496383647cad7e10cc91",
      "e0feb05decf142e98c38136fe132b510",
      "44643b8ca0634f57a9eba2cdda8a3e7b",
      "d29bb79ea1d94e4eb435571a64d3dfd3",
      "bde84761864b42d5b363c6bf0e56f5d3",
      "b79c18ac2ac649e9acfef24da6c2bea1",
      "8dc2fbeb0ff54b1aa5f1e6f6238123ce",
      "9532f2e6912844dfab406ac91b6e895c",
      "51672d2ad99c400f9c4084a45fbea913",
      "4bf384192418428e9d7b3c109341b714",
      "c35e15a21ab346f78df0446c194c777a",
      "73ccac3733cf41afa296e96d8f5ef1d8",
      "3c713bd0e9b6448497cb1e88a19c0314",
      "faca5258bd424812a0b7d616bcc4dec2",
      "36f86af274cb422ab1d901124f1f7615",
      "d2f4c9b04e81450e8f5d55550f36c75e",
      "ccaef92185a74b748f389a9bd5074886",
      "7ef3d95ea1ea496bb41897bef64c7e0e",
      "1c4b227491b54cf3ba64b320d291564e",
      "e751b62fc23043aa90d9e4efb1b98755",
      "8133a2e5f76945a1b07437c5b7aafdf8",
      "e638155ab996446788be094dc1c3011f",
      "3a2370ce20de45c1970b097ed4b5f5b4",
      "434add8136604c5e97f2117fbe59bb03",
      "9f20b24d23014117b35143c9545f3176",
      "637658d7b18141e08be0969585f9166b",
      "42ffc78949f543099bfcbff115c4d96b",
      "a08d8b079105466388c26633a8d70974",
      "d8f51298ecdd41048df73010c52f2fb5",
      "b0a0e6c1e5db4860b602bfdc85df05ab",
      "c294317c2ef14eab9f24cedceef42b4f",
      "1e6053ee2e12447b9f503e8e957590f1",
      "b62723af64f2441b97bb77c8503b3ac7",
      "74c13ee1deba474a95e8524e2b1b9524",
      "1b8a2344a0aa42b5b6687640932065d4",
      "344673b65f974322b52b5798a35134a5",
      "9f0e014b96d94f44a62dd5d35e219f56",
      "51f1211ea1174147b6ec96a192a3a72b",
      "e094e38289044c0b910893fb5220bd2b",
      "418781c840024c978a06801b4b406b70",
      "f0a59f69e83146b48989383a344576d4",
      "2553b6676e1945d19273c375b9b20261",
      "9949d9cd8ae64ba3ae79393dc1c56495",
      "7ca26a8a90a14dc491c74030d88b75e3",
      "708034d836fb4a5bb866b62e98d2c462",
      "eb46ba5f8309483ca2ecb62c8a2cca23",
      "d5aa8844ecc34244ae88f1611ca60406",
      "ab1c15377e8a4f4ea1823ac8b859d915",
      "f8c060236e074afd80676e0b8c1a0048"
     ]
    },
    "id": "rfkYfAbcqign",
    "outputId": "b0ea442e-7ad7-4c72-97f6-b10cae3d9b83"
   },
   "outputs": [],
   "source": [
    "dataset, info = tfds.load('oxford_iiit_pet:3.*.*', with_info=True)"
   ]
  },
  {
   "cell_type": "markdown",
   "metadata": {
    "id": "vOuWcmvxpLiV"
   },
   "source": [
    "Le dossier dans lequel a été chargé le jeu de données est indiqué dans la sortie de l'instruction précédente. \n",
    "\n",
    "Si vous examinez ce dossier, vous verrez qu'il contient plusieurs fichiers :\n",
    "- les fichiers texte ```label.labels.txt``` et ```species.labels.txt``` contiennent les listes des noms des différentes classes. ```label.labels.txt``` contient les 37 noms de races représentées, et ```species.labels.txt``` contient les 2 noms d'espèces (chiens et chats) ; \n",
    "- le fichier ```dataset_info.json``` contient des informations générales sur le jeu de données. Ce sont ces données qui sont contenues dans la variable ```info```renvoyée par la fonction ```tfds.load```. Nous l'examinerons en détail dans la cellule suivante ;\n",
    "- enfin, les fichiers ```features.json- oxford_iiit_pet-train.tfrecord-0000i-of-00004``` et ```oxford_iiit_pet-test.tfrecord-0000i-of-00004``` sont des fichiers binaires qui contiennent les données. Le jeu de données est séparé en données d'entraînement (fichiers ```features.json- oxford_iiit_pet-train.tfrecord-00000-of-00004``` à ```features.json- oxford_iiit_pet-train.tfrecord-00004-of-00004```) et données de test (fichiers ```oxford_iiit_pet-test.tfrecord-00000-of-00004``` à ```oxford_iiit_pet-test.tfrecord-00004-of-00004```). Chaquen ensemble est séparé en quatre fichiers afin de limiter la taille. Dans ces fichiers sont encodées les images, ainsi que les étiquettes et les masques de segmentation. \n",
    "\n",
    "Regardons maintenant plus en détail la variable ```info``` du jeu de données. "
   ]
  },
  {
   "cell_type": "code",
   "execution_count": 3,
   "metadata": {
    "colab": {
     "base_uri": "https://localhost:8080/"
    },
    "id": "peT2cyxCoxu_",
    "outputId": "818997bc-ae7b-4bfc-9b2e-8c59b25defa0",
    "scrolled": true
   },
   "outputs": [
    {
     "name": "stdout",
     "output_type": "stream",
     "text": [
      "tfds.core.DatasetInfo(\n",
      "    name='oxford_iiit_pet',\n",
      "    full_name='oxford_iiit_pet/3.2.0',\n",
      "    description=\"\"\"\n",
      "    The Oxford-IIIT pet dataset is a 37 category pet image dataset with roughly 200\n",
      "    images for each class. The images have large variations in scale, pose and\n",
      "    lighting. All images have an associated ground truth annotation of breed.\n",
      "    \"\"\",\n",
      "    homepage='http://www.robots.ox.ac.uk/~vgg/data/pets/',\n",
      "    data_path='C:\\\\Users\\\\ispri\\\\tensorflow_datasets\\\\oxford_iiit_pet\\\\3.2.0',\n",
      "    file_format=tfrecord,\n",
      "    download_size=773.52 MiB,\n",
      "    dataset_size=774.69 MiB,\n",
      "    features=FeaturesDict({\n",
      "        'file_name': Text(shape=(), dtype=tf.string),\n",
      "        'image': Image(shape=(None, None, 3), dtype=tf.uint8),\n",
      "        'label': ClassLabel(shape=(), dtype=tf.int64, num_classes=37),\n",
      "        'segmentation_mask': Image(shape=(None, None, 1), dtype=tf.uint8),\n",
      "        'species': ClassLabel(shape=(), dtype=tf.int64, num_classes=2),\n",
      "    }),\n",
      "    supervised_keys=('image', 'label'),\n",
      "    disable_shuffling=False,\n",
      "    splits={\n",
      "        'test': <SplitInfo num_examples=3669, num_shards=4>,\n",
      "        'train': <SplitInfo num_examples=3680, num_shards=4>,\n",
      "    },\n",
      "    citation=\"\"\"@InProceedings{parkhi12a,\n",
      "      author       = \"Parkhi, O. M. and Vedaldi, A. and Zisserman, A. and Jawahar, C.~V.\",\n",
      "      title        = \"Cats and Dogs\",\n",
      "      booktitle    = \"IEEE Conference on Computer Vision and Pattern Recognition\",\n",
      "      year         = \"2012\",\n",
      "    }\"\"\",\n",
      ")\n"
     ]
    }
   ],
   "source": [
    "print(info)"
   ]
  },
  {
   "cell_type": "markdown",
   "metadata": {
    "colab": {
     "base_uri": "https://localhost:8080/"
    },
    "id": "ajAbpevhSHO7",
    "outputId": "15d4eed5-2667-49fb-8236-80a6e85e3f4c"
   },
   "source": [
    "Dans cette variable sont stockées les informations suivantes :\n",
    "- le nom et la description du jeu de données ;\n",
    "- un lien vers la page web où il est hébergé ;\n",
    "- le dossier où il est stocké sur votre ordinateur ;\n",
    "- le format du jeu de données : celui est au format ```tfrecord```, un format binaire ;\n",
    "- sa taille mémoire ;\n",
    "- une description du contenu : dans ce jeu de données, chaque élément est composé des éléments suivants :\n",
    " - un nom de fichier ;\n",
    " - une image à 3 canaux ;\n",
    " - une étiquette nommée *label* (étiquette) parmi 37 classes ; c'est la race de l'animal ;\n",
    " - un masque de segmentation à un seul canal ;\n",
    " - une autre étiquette nommée *species* (espèce) parmi 2 classes ; c'est l'espèce de l'animal ;\n",
    "- les éventuelles séparations de données ; ici, les données ont été séparées en un ensemble de test, contenant 3 669 exemples séparés en 4 fichiers, et un ensemble d'entraînement, contenant 3 680 exemples séparés en 4 fichiers ;\n",
    "- une citation, vous permettant de citer l'origine de cet ensemble de données dans une publication. "
   ]
  },
  {
   "cell_type": "markdown",
   "metadata": {},
   "source": [
    "Examinons maintenant le format de la variable ```dataset```."
   ]
  },
  {
   "cell_type": "code",
   "execution_count": 4,
   "metadata": {
    "colab": {
     "base_uri": "https://localhost:8080/"
    },
    "id": "Zu97-gqfSKlJ",
    "outputId": "22dc5d68-e049-42b3-8a67-e488a726ff46"
   },
   "outputs": [
    {
     "name": "stdout",
     "output_type": "stream",
     "text": [
      "{'train': <PrefetchDataset shapes: {file_name: (), image: (None, None, 3), label: (), segmentation_mask: (None, None, 1), species: ()}, types: {file_name: tf.string, image: tf.uint8, label: tf.int64, segmentation_mask: tf.uint8, species: tf.int64}>, 'test': <PrefetchDataset shapes: {file_name: (), image: (None, None, 3), label: (), segmentation_mask: (None, None, 1), species: ()}, types: {file_name: tf.string, image: tf.uint8, label: tf.int64, segmentation_mask: tf.uint8, species: tf.int64}>}\n"
     ]
    }
   ],
   "source": [
    "print(dataset)"
   ]
  },
  {
   "cell_type": "markdown",
   "metadata": {},
   "source": [
    "Cet ensemble de données contient cinq éléments pour chaque image : \n",
    "- ```file_name``` : le nom du fichier ;\n",
    "- ```image``` : l'image, au format ```tf.uint8``` (les pixels sont des entiers codés sur 8 bits), et avec trois canaux ;\n",
    "- ```label``` : l'étiquette décrivant la race de l'animal, au format ```tf.int64``` ;\n",
    "- ```segmentation_mask``` : le masque de segmentation, au format ```tf.uint8``` et avec un seul canal ;\n",
    "- ```species``` : une autre étiquette décrivant l'espèce de l'animal. Cette étiquette est elle aussi au format ```tf.int64```.\n",
    "\n",
    "Chaque image est elle-même représentée par un ```dict```, contenant les informations ```file_name```, ```image```, ```label```, etc. "
   ]
  },
  {
   "cell_type": "markdown",
   "metadata": {
    "id": "QM9zPoS4phZl"
   },
   "source": [
    "### Prétraitement des données"
   ]
  },
  {
   "cell_type": "markdown",
   "metadata": {},
   "source": [
    "Les fonctions suivantes permettent de prétraiter les données. Pour chaque prétraitement, il est impératif de modifier à la fois l'image et le masque de segmentation associé. \n",
    "\n",
    "La première fonction permet de modifier la taille de l'image et de son masque de segmentation à (128,128). Pour cela, nous utilisons la fonction ```resize``` de ```tf.image```, qui prend deux arguments en entrée :\n",
    "- l'image à modifier ;\n",
    "- la taille de l'image finale ;\n",
    "- la méthode d'interpolation, ici la méthode des plus proches voisins."
   ]
  },
  {
   "cell_type": "code",
   "execution_count": 5,
   "metadata": {
    "id": "dKWyGkyKtzvg"
   },
   "outputs": [],
   "source": [
    "def resize(input_image, input_mask):\n",
    "    input_image = tf.image.resize(input_image, (128, 128), method=\"nearest\")\n",
    "    input_mask = tf.image.resize(input_mask, (128, 128), method=\"nearest\")\n",
    "\n",
    "    return input_image, input_mask"
   ]
  },
  {
   "cell_type": "markdown",
   "metadata": {},
   "source": [
    "La seconde fonction réalise l'augmentation de données de manière aléatoire : si une variable aléatoire uniforme est supérieure à 0.5 (i.e., une fois sur deux), l'image et son masque sont retournés horizontalement par symétrie axiale.\n",
    "\n",
    "Pour ce faire, nous utilisons la fonction ```flip_left_right``` de ```tf.image```."
   ]
  },
  {
   "cell_type": "code",
   "execution_count": 6,
   "metadata": {
    "id": "b-KH8F5OpksN"
   },
   "outputs": [],
   "source": [
    "def augment(input_image, input_mask):\n",
    "    if tf.random.uniform(()) > 0.5:\n",
    "        # Retournement horizontal de l'image\n",
    "        input_image = tf.image.flip_left_right(input_image)\n",
    "        input_mask = tf.image.flip_left_right(input_mask)\n",
    "\n",
    "    return input_image, input_mask"
   ]
  },
  {
   "cell_type": "markdown",
   "metadata": {},
   "source": [
    "La dernière fonction normalise les intensités de l'image et de son masque entre 0 et 1. \n",
    "\n",
    "L'image originale a des pixels représentés par des entiers entre 0 et 255 (car ce sont des ```tf.uint8```). Ces pixels sont convertis en nombres flottants avant d'être divisés par 255. Les images résultantes ont ainsi des intensités comprises entre 0 et 1. \n",
    "\n",
    "Le masque de segmentation a des pixel représentés par des entiers entre 1 et 3 : les pixels correspondant à l'objet segmenté ont une intensité de 1, le fond a une intensité de 2, et la bordure a une intensité de 1. On soustrait 1 à toutes les intensités afin qu'elles soient comprises entre 0 et 2.\n",
    "\n",
    "<img src=\"Segmentation_exemple_image.png\" alt=\"exemple image et masque\" width=\"800\"/>"
   ]
  },
  {
   "cell_type": "code",
   "execution_count": 7,
   "metadata": {
    "id": "g66ibVT9txXn"
   },
   "outputs": [],
   "source": [
    "def normalize(input_image, input_mask):\n",
    "    input_image = tf.cast(input_image, tf.float32) / 255.0\n",
    "    input_mask -= 1\n",
    "\n",
    "    return input_image, input_mask"
   ]
  },
  {
   "cell_type": "markdown",
   "metadata": {},
   "source": [
    "## Création des lots d'entraînement, de validation et de test"
   ]
  },
  {
   "cell_type": "markdown",
   "metadata": {},
   "source": [
    "Nous pouvons maintenant créer des lots d'entraînement, validation et test auxquels les prétraitements que nous venons de définir pourront être appliqués. \n",
    "\n",
    "Nous définissons tout d'abord deux fonctions qui s'appliquent chacune à un unique élément de données. \n",
    "\n",
    "La première, ```load_image_train```, modifie la taille, applique un retournement aléatoire, et normalise les intensités d'une image et de son masque de segmentation. "
   ]
  },
  {
   "cell_type": "code",
   "execution_count": 8,
   "metadata": {
    "id": "IMF269tZCw04"
   },
   "outputs": [],
   "source": [
    "def load_image_train(datapoint):\n",
    "    input_image = datapoint[\"image\"]\n",
    "    input_mask = datapoint[\"segmentation_mask\"]\n",
    "    input_image, input_mask = resize(input_image, input_mask)\n",
    "    input_image, input_mask = augment(input_image, input_mask)\n",
    "    input_image, input_mask = normalize(input_image, input_mask)\n",
    "\n",
    "    return input_image, input_mask"
   ]
  },
  {
   "cell_type": "markdown",
   "metadata": {},
   "source": [
    "La seconde fonction s'applique aux images de test. \n",
    "\n",
    "Aucune augmentation n'est donc appliquée. L'image donnée en entrée et son masque de segmentation voient simplement leur taille modifiée et leurs intensités normalisées.  "
   ]
  },
  {
   "cell_type": "code",
   "execution_count": 9,
   "metadata": {
    "id": "r7KKBzbPDeWa"
   },
   "outputs": [],
   "source": [
    "def load_image_test(datapoint):\n",
    "    input_image = datapoint[\"image\"]\n",
    "    input_mask = datapoint[\"segmentation_mask\"]\n",
    "    input_image, input_mask = resize(input_image, input_mask)\n",
    "    input_image, input_mask = normalize(input_image, input_mask)\n",
    "\n",
    "    return input_image, input_mask"
   ]
  },
  {
   "cell_type": "markdown",
   "metadata": {},
   "source": [
    "Enfin, ces deux fonctions sont appliquées aux ensembles de données d'entraînement et de test. \n",
    "\n",
    "Pour cela, nous utilisons la fonction ```tf.data.Dataset.map```, qui applique une fonction définie par l'utilisateur à chaque élément de l'ensemble de données. Ces éléments étant indépendants les uns des autres, l'application de cette fonction peut être parallélisée sur plusieurs coeurs de calcul. \n",
    "\n",
    "La fonction ```tf.data.Dataset.map``` accepte deux arguments en entrée :\n",
    "- la fonction à appliquer à chaque image ;\n",
    "- ```num_parallel_calls```, qui décrit le degré de parallélisation. \n",
    "\n",
    "La valeur optimale de ce dernier argument dépend de plusieurs facteurs. Certains sont connus lors de l'écriture du code, comme la taille du jeu de données ou la complexité de la fonction de prétraitement, tandis que d'autres ne sont connus que lors de l'exécution, comme les autres opérations réalisées par la carte CPU au moment de l'exécution. \n",
    "\n",
    "La librairie TensorFlow propose l'option ```tf.data.AUTOTUNE```, qui choisit automatiquement la valeur optimale de ```num_parallel_calls``` au moment de l'exécution du code."
   ]
  },
  {
   "cell_type": "code",
   "execution_count": 10,
   "metadata": {
    "id": "xmxyjrKFx9A7"
   },
   "outputs": [],
   "source": [
    "train_dataset = dataset[\"train\"].map(load_image_train, num_parallel_calls=tf.data.AUTOTUNE)\n",
    "test_dataset = dataset[\"test\"].map(load_image_test, num_parallel_calls=tf.data.AUTOTUNE)"
   ]
  },
  {
   "cell_type": "markdown",
   "metadata": {
    "colab": {
     "base_uri": "https://localhost:8080/"
    },
    "id": "ePza1Q_iS54U",
    "outputId": "52a49c54-399d-4e2b-a680-808a9b848c75"
   },
   "source": [
    "A ce stade, nous avons créé deux ensembles de données, l'un pour l'entraînement et l'autre pour le test, avec une chaîne de prétraitements pour chacun. \n",
    "\n",
    "Ces prétraitements seront appliqués lorsque les images seront chargées pendant l'entraînement.\n",
    "\n",
    "Nous allons maintenant créer les lots d'entraînement, validation et test à partir des données ```train_dataset``` (pour les lots d'entraînement) et ```test_dataset``` (pour les lots de validation et de test). \n",
    "\n",
    "Pour créer ces lots, nous utilisons certaines des nombreuses fonctions qui peuvent s'appliquer aux ensembles de données :\n",
    "- ```cache``` permet de mettre en cache l'ensemble du jeu de données. Ainsi, toutes les opérations réalisées avant l'opération de mise en cache (comme l'ouverture des fichiers et la lecture des images) ne sont exécutées qu'à la première époque. Les époques suivantes réutilisent les informations mises en cache ; \n",
    "- ```shuffle``` permet de mélanger les données avant la constitution des lots. Cette fonction accepte en argument une taille de mémoire tampon, à partir de laquelle les données seront mélangées. Cette étape est cruciale pour les données d'entraînement (selon la manière dont les données sont organisées, vous risqueriez sinon de vous retrouver avec des lots ne contenant que des images d'une même classe), mais elle n'est pas utile pour les données de validation ou de test ;\n",
    "- ```batch``` permet d'organiser les données en lots. Cette fonction nécessite la taille de lot en argument d'entrée ;\n",
    "- ```repeat``` permet d'utiliser plusieurs fois les données. Il est possible de préciser le nombre de répétitions à réaliser. Si ce nombre n'est pas spécifié, il sera calculé pendant l'entraînement ;\n",
    "- ```prefetch``` permet de précharger une partie des éléments. Comme nous l'avons décrit précédemment, ceci permet d'accélérer l'entraînement. Cette fonction nécessite la quantité de données à précharger en argument. Pour les données d'entraînement, il est conseillé de précharger au moins un lot, mais le nombre précis de lots à précharger dépend du contexte précis. Il est possible d'utiliser l'option ```tf.data.AUTOTUNE``` pour cet argument. Ainsi, la quantité de données à précharger sera sélectionnée automatiquement au moment de l'exécution du code ;\n",
    "- ```take``` permet de ne considérer qu'une partie des données. La quantité de données à considérer doit être donnée en argument ;\n",
    "- ```skip``` est l'inverse de ```take```, et permet d'ignorer une partie des données. La quantité de données à ignorer est passée en argument. \n",
    "\n",
    "Pour les lots d'entraînement, nous utilisons les fonctions ```cache```, ```shuffle```, ```batch```, ```repeat``` et ```prefetch``` : ainsi, les données sont tout d'abord mises en cache. Elles sont ensuite mélangées, organisées en lots, organisées de manière à pouvoir être utilisées plusieurs fois, et une partie en est préchargée.  \n",
    "\n",
    "Nous définissons une taille de lot égale à 16, et une taille tampon égale à 1000. "
   ]
  },
  {
   "cell_type": "code",
   "execution_count": 11,
   "metadata": {},
   "outputs": [],
   "source": [
    "taille_lot = 16\n",
    "taille_tampon = 1000\n",
    "\n",
    "train_batches = train_dataset.cache().shuffle(taille_tampon).batch(taille_lot).repeat()\n",
    "train_batches = train_batches.prefetch(buffer_size=tf.data.experimental.AUTOTUNE)"
   ]
  },
  {
   "cell_type": "markdown",
   "metadata": {
    "id": "ejYOHxHOeOGK"
   },
   "source": [
    "Les lots de validation et de test provenant des mêmes données, nous utilisons les fonctions ```take``` et ```skip``` pour en réserver une partie aux lots de validation. \n",
    "\n",
    "Nous choisissons 700 images pour la validation, et le même nombre pour les tests. \n",
    "\n",
    "Pour créer les lots de validation, nous utilisons les fonctions ```take``` et ```batch``` : les données sont simplement réservées puis mises en lot. Nous utilisons ensuite la fonction ```repeat```, car les données de validation sont utilisées à chaque itération. \n",
    "\n",
    "Pour les lots de test, nous utilisons les fonctions ```skip```, ce qui nous permet d'ignorer les images utilisées pour la validation, puis ```take``` et ```batch```, afin de réserver les données et de les mettre en lot. Ces données ne sont utilisées qu'une seule fois, à la fin de l'entraînement, et n'ont donc pas besoin d'être répétées. "
   ]
  },
  {
   "cell_type": "code",
   "execution_count": 12,
   "metadata": {},
   "outputs": [],
   "source": [
    "taille_validation = 700\n",
    "taille_test = 700"
   ]
  },
  {
   "cell_type": "code",
   "execution_count": 13,
   "metadata": {
    "colab": {
     "base_uri": "https://localhost:8080/"
    },
    "id": "Y2xC8yNCTB6o",
    "outputId": "a3063cec-bb9b-40a5-bd6b-6e0783389f0c"
   },
   "outputs": [],
   "source": [
    "validation_batches = test_dataset.take(taille_validation).batch(taille_lot).repeat()\n",
    "test_batches = test_dataset.skip(taille_validation).take(taille_test).batch(taille_lot)"
   ]
  },
  {
   "cell_type": "markdown",
   "metadata": {
    "id": "8zJZHJdc037v"
   },
   "source": [
    "### Visualisation des données\n",
    "\n",
    "Visualisons maintenant une des images de notre ensemble de données. \n",
    "\n",
    "La fonction ```affiche``` prend en entrée une image, le masque de segmentation réel, et le masque de segmentation prédit, et les affiche côte à côte. "
   ]
  },
  {
   "cell_type": "code",
   "execution_count": 14,
   "metadata": {
    "id": "3N2RPAAW9q4W"
   },
   "outputs": [],
   "source": [
    "def affiche(image_list):\n",
    "    plt.figure(figsize=(15, 15))\n",
    "    title = [\"Image originale\", \"Vrai masque\", \"Masque prédit\"]\n",
    "    \n",
    "    # Boucle sur les images\n",
    "    for i in range(len(image_list)):\n",
    "        plt.subplot(1, len(image_list), i+1)\n",
    "        plt.title(title[i])\n",
    "        plt.imshow(image_list[i])\n",
    "        plt.axis(\"off\")\n",
    "        \n",
    "        # Ajouter la colorbar à droite de l'image\n",
    "        cax = plt.gca().inset_axes([1.05, 0, 0.05, 1])  # Crée une zone pour la colorbar\n",
    "        plt.colorbar(cax=cax)\n",
    "        \n",
    "    plt.tight_layout()  # Pour éviter que les colorbars se chevauchent avec les images\n",
    "    plt.show()"
   ]
  },
  {
   "cell_type": "markdown",
   "metadata": {},
   "source": [
    "Nous l'appliquons à une image prise au hasard dans ```test_batch```. "
   ]
  },
  {
   "cell_type": "code",
   "execution_count": 15,
   "metadata": {
    "colab": {
     "base_uri": "https://localhost:8080/",
     "height": 426
    },
    "id": "2Xfx2tVwvJn-",
    "outputId": "df662ce5-a1e7-478a-ffbe-a31f2c2674d0"
   },
   "outputs": [
    {
     "data": {
      "image/png": "[encoded data removed]",
      "text/plain": [
       "<Figure size 1500x1500 with 2 Axes>"
      ]
     },
     "metadata": {},
     "output_type": "display_data"
    }
   ],
   "source": [
    "exemple_iter = next(iter(test_batches))\n",
    "indice_aleatoire = np.random.choice(exemple_iter[0].shape[0])\n",
    "exemple_image, exemple_mask = exemple_iter[0][indice_aleatoire], exemple_iter[1][indice_aleatoire]\n",
    "affiche([exemple_image, exemple_mask])"
   ]
  },
  {
   "cell_type": "markdown",
   "metadata": {
    "id": "OjBm4atL-i4i"
   },
   "source": [
    "# Construction du modèle U-Net\n",
    "<a id='construction_modele'></a>\n",
    "\n",
    "Nous sommes enfin prêts à construire le modèle U-Net. \n",
    "\n",
    "L'architecture de notre modèle est la suivante : l'image originale, de taille 128x128x3, passe tout d'abord par une série de convolutions 3x3 et de sous-échantillonnages, puis par des convolutions transposées et concaténations. \n",
    "\n",
    "<img src=\"Segmentation_architecture.png\" alt=\"architecture U-Net\" width=\"800\"/>\n",
    "\n",
    "\n",
    "##  Construction des blocs\n",
    "Nous définissons tout d'abord des blocs constitutifs du modèle U-Net.\n",
    "\n",
    "Le premier bloc est constitué de deux couches successives de filtres de convolution, chacun avec ```n_filters``` filtres de taille 3x3, un remplissage permettant de conserver les dimensions, et une fonction d'activation ReLU.\n",
    "\n",
    "Contrairement au réseau U-Net original, nous utilisons un remplissage afin d'obtenir une images segmentée de la même taille que l'image originale. "
   ]
  },
  {
   "cell_type": "code",
   "execution_count": 16,
   "metadata": {
    "id": "CpBaxoS4LBuo"
   },
   "outputs": [],
   "source": [
    "def bloc_double_conv(x, n_filters):\n",
    "    # Conv2D avec activation ReLU\n",
    "    x = layers.Conv2D(n_filters, 3, padding = \"same\", activation = \"relu\")(x)\n",
    "    # Conv2D avec activation ReLU\n",
    "    x = layers.Conv2D(n_filters, 3, padding = \"same\", activation = \"relu\")(x)\n",
    "    return x"
   ]
  },
  {
   "cell_type": "markdown",
   "metadata": {},
   "source": [
    "Le bloc suivant associe convolution et sous-échantillonnage. \n",
    "\n",
    "Il contient tout d'abord un bloc convolutif défini dans la fonction précédente, puis une agrégation par maximum, puis une extinction de neurones.\n",
    "\n",
    "La fonction retourne à la fois la sortie du bloc convolutif, qui sera concaténée aux sorties de la seconde partie du réseau, et la sortie du bloc d'extinction de neurones. \n",
    "\n",
    "Ce sont ces blocs qui constituent la partie de contraction de notre réseau. "
   ]
  },
  {
   "cell_type": "code",
   "execution_count": 17,
   "metadata": {
    "id": "Z85XYNyl0sxs"
   },
   "outputs": [],
   "source": [
    "def bloc_sous_enchantillonnage(x, n_filters):\n",
    "    # Bloc convolutif\n",
    "    f = bloc_double_conv(x, n_filters)\n",
    "    # Agrégation par maximum\n",
    "    p = layers.MaxPool2D(2)(f)\n",
    "    # Extinction de neurones\n",
    "    p = layers.Dropout(0.3)(p)\n",
    "\n",
    "    return f, p"
   ]
  },
  {
   "cell_type": "markdown",
   "metadata": {},
   "source": [
    "Le dernier bloc commence par une couche de convolution transposée avec ```n_filters``` de taille 3x3, qui permet de doubler la taille de l'image d'entrée. La sortie de cette couche est ensuite concaténée avec les caractéristiques issues de la première partie du réseau, donnée dans l'argument d'entrée de la fonction ```conv_features```. \n",
    "\n",
    "Ce bloc contient ensuite une couche d'extinction de neurones, puis un bloc convolutif. \n",
    "\n",
    "Ce bloc sera utilisé dans la partie expansion de notre réseau. "
   ]
  },
  {
   "cell_type": "code",
   "execution_count": 18,
   "metadata": {
    "id": "_L_TF4djF8FY"
   },
   "outputs": [],
   "source": [
    "def bloc_sur_enchantillonnage(x, conv_features, n_filters):\n",
    "    # Sur échantillonnage\n",
    "    x = layers.Conv2DTranspose(n_filters, 3, 2, padding=\"same\")(x)\n",
    "    # Concatenate\n",
    "    x = layers.concatenate([x, conv_features])\n",
    "    # Extinction de neurones\n",
    "    x = layers.Dropout(0.3)(x)\n",
    "    # Bloc convolutif\n",
    "    x = bloc_double_conv(x, n_filters)\n",
    "\n",
    "    return x"
   ]
  },
  {
   "cell_type": "markdown",
   "metadata": {
    "id": "dlcliXVXAk9v"
   },
   "source": [
    "## Construction du modèle U-Net à partir des blocs\n",
    "\n",
    "La fonction suivante permet de construire le modèle U-Net à partir des blocs définis plus haut. "
   ]
  },
  {
   "cell_type": "code",
   "execution_count": 19,
   "metadata": {
    "id": "YVKF2gcfGAMW"
   },
   "outputs": [],
   "source": [
    "def construire_unet():\n",
    "\n",
    "    # Entrées de taille 128x128x3\n",
    "    inputs = layers.Input(shape=(128,128,3))\n",
    "\n",
    "    # Première partie du réseau : contraction\n",
    "    # Sous-échantillonnage avec 64 filtres\n",
    "    f1, p1 = bloc_sous_enchantillonnage(inputs, 64)\n",
    "    # Sous-échantillonnage avec 128 filtres\n",
    "    f2, p2 = bloc_sous_enchantillonnage(p1, 128)\n",
    "    # Sous-échantillonnage avec 256 filtres\n",
    "    f3, p3 = bloc_sous_enchantillonnage(p2, 256)\n",
    "    # Sous-échantillonnage avec 512 filtres\n",
    "    f4, p4 = bloc_sous_enchantillonnage(p3, 512)\n",
    "\n",
    "    # Liaison entre la partie de contraction et la partie d'expansion\n",
    "    liaison = bloc_double_conv(p4, 1024)\n",
    "\n",
    "    # Seconde partie du réseau :expansion et concaténation avec la partie de contraction\n",
    "    # Sur-échantillonnage avec 512 filtres et concaténation avec f4\n",
    "    u6 = bloc_sur_enchantillonnage(liaison, f4, 512)\n",
    "    # Sur-échantillonnage avec 256 filtres et concaténation avec f3\n",
    "    u7 = bloc_sur_enchantillonnage(u6, f3, 256)\n",
    "    # Sur-échantillonnage avec 128 filtres et concaténation avec f2\n",
    "    u8 = bloc_sur_enchantillonnage(u7, f2, 128)\n",
    "    # Sur-échantillonnage avec 64 filtres et concaténation avec f1\n",
    "    u9 = bloc_sur_enchantillonnage(u8, f1, 64)\n",
    "\n",
    "    # La dernière couche de convolution contient 3 filtres (pour prédire 3 classes) de taille 1x1\n",
    "    outputs = layers.Conv2D(3, 1, padding=\"same\", activation = \"softmax\")(u9)\n",
    "\n",
    "    # Création du modèle avec l'API de Keras\n",
    "    unet_model = tf.keras.Model(inputs, outputs, name=\"U-Net\")\n",
    "\n",
    "    return unet_model"
   ]
  },
  {
   "cell_type": "code",
   "execution_count": 20,
   "metadata": {},
   "outputs": [],
   "source": [
    "modele_unet = construire_unet()"
   ]
  },
  {
   "cell_type": "markdown",
   "metadata": {},
   "source": [
    "Nous pouvons afficher un résumé de l'architecture du modèle. "
   ]
  },
  {
   "cell_type": "code",
   "execution_count": 21,
   "metadata": {
    "colab": {
     "base_uri": "https://localhost:8080/"
    },
    "id": "Wcx_Dk5Na5Tz",
    "outputId": "3b6baeff-071e-48f4-f3f0-6fa3045f7100",
    "scrolled": true
   },
   "outputs": [
    {
     "name": "stdout",
     "output_type": "stream",
     "text": [
      "Model: \"U-Net\"\n",
      "__________________________________________________________________________________________________\n",
      "Layer (type)                    Output Shape         Param #     Connected to                     \n",
      "==================================================================================================\n",
      "input_1 (InputLayer)            [(None, 128, 128, 3) 0                                            \n",
      "__________________________________________________________________________________________________\n",
      "conv2d (Conv2D)                 (None, 128, 128, 64) 1792        input_1[0][0]                    \n",
      "__________________________________________________________________________________________________\n",
      "conv2d_1 (Conv2D)               (None, 128, 128, 64) 36928       conv2d[0][0]                     \n",
      "__________________________________________________________________________________________________\n",
      "max_pooling2d (MaxPooling2D)    (None, 64, 64, 64)   0           conv2d_1[0][0]                   \n",
      "__________________________________________________________________________________________________\n",
      "dropout (Dropout)               (None, 64, 64, 64)   0           max_pooling2d[0][0]              \n",
      "__________________________________________________________________________________________________\n",
      "conv2d_2 (Conv2D)               (None, 64, 64, 128)  73856       dropout[0][0]                    \n",
      "__________________________________________________________________________________________________\n",
      "conv2d_3 (Conv2D)               (None, 64, 64, 128)  147584      conv2d_2[0][0]                   \n",
      "__________________________________________________________________________________________________\n",
      "max_pooling2d_1 (MaxPooling2D)  (None, 32, 32, 128)  0           conv2d_3[0][0]                   \n",
      "__________________________________________________________________________________________________\n",
      "dropout_1 (Dropout)             (None, 32, 32, 128)  0           max_pooling2d_1[0][0]            \n",
      "__________________________________________________________________________________________________\n",
      "conv2d_4 (Conv2D)               (None, 32, 32, 256)  295168      dropout_1[0][0]                  \n",
      "__________________________________________________________________________________________________\n",
      "conv2d_5 (Conv2D)               (None, 32, 32, 256)  590080      conv2d_4[0][0]                   \n",
      "__________________________________________________________________________________________________\n",
      "max_pooling2d_2 (MaxPooling2D)  (None, 16, 16, 256)  0           conv2d_5[0][0]                   \n",
      "__________________________________________________________________________________________________\n",
      "dropout_2 (Dropout)             (None, 16, 16, 256)  0           max_pooling2d_2[0][0]            \n",
      "__________________________________________________________________________________________________\n",
      "conv2d_6 (Conv2D)               (None, 16, 16, 512)  1180160     dropout_2[0][0]                  \n",
      "__________________________________________________________________________________________________\n",
      "conv2d_7 (Conv2D)               (None, 16, 16, 512)  2359808     conv2d_6[0][0]                   \n",
      "__________________________________________________________________________________________________\n",
      "max_pooling2d_3 (MaxPooling2D)  (None, 8, 8, 512)    0           conv2d_7[0][0]                   \n",
      "__________________________________________________________________________________________________\n",
      "dropout_3 (Dropout)             (None, 8, 8, 512)    0           max_pooling2d_3[0][0]            \n",
      "__________________________________________________________________________________________________\n",
      "conv2d_8 (Conv2D)               (None, 8, 8, 1024)   4719616     dropout_3[0][0]                  \n",
      "__________________________________________________________________________________________________\n",
      "conv2d_9 (Conv2D)               (None, 8, 8, 1024)   9438208     conv2d_8[0][0]                   \n",
      "__________________________________________________________________________________________________\n",
      "conv2d_transpose (Conv2DTranspo (None, 16, 16, 512)  4719104     conv2d_9[0][0]                   \n",
      "__________________________________________________________________________________________________\n",
      "concatenate (Concatenate)       (None, 16, 16, 1024) 0           conv2d_transpose[0][0]           \n",
      "                                                                 conv2d_7[0][0]                   \n",
      "__________________________________________________________________________________________________\n",
      "dropout_4 (Dropout)             (None, 16, 16, 1024) 0           concatenate[0][0]                \n",
      "__________________________________________________________________________________________________\n",
      "conv2d_10 (Conv2D)              (None, 16, 16, 512)  4719104     dropout_4[0][0]                  \n",
      "__________________________________________________________________________________________________\n",
      "conv2d_11 (Conv2D)              (None, 16, 16, 512)  2359808     conv2d_10[0][0]                  \n",
      "__________________________________________________________________________________________________\n",
      "conv2d_transpose_1 (Conv2DTrans (None, 32, 32, 256)  1179904     conv2d_11[0][0]                  \n",
      "__________________________________________________________________________________________________\n",
      "concatenate_1 (Concatenate)     (None, 32, 32, 512)  0           conv2d_transpose_1[0][0]         \n",
      "                                                                 conv2d_5[0][0]                   \n",
      "__________________________________________________________________________________________________\n",
      "dropout_5 (Dropout)             (None, 32, 32, 512)  0           concatenate_1[0][0]              \n",
      "__________________________________________________________________________________________________\n",
      "conv2d_12 (Conv2D)              (None, 32, 32, 256)  1179904     dropout_5[0][0]                  \n",
      "__________________________________________________________________________________________________\n",
      "conv2d_13 (Conv2D)              (None, 32, 32, 256)  590080      conv2d_12[0][0]                  \n",
      "__________________________________________________________________________________________________\n",
      "conv2d_transpose_2 (Conv2DTrans (None, 64, 64, 128)  295040      conv2d_13[0][0]                  \n",
      "__________________________________________________________________________________________________\n",
      "concatenate_2 (Concatenate)     (None, 64, 64, 256)  0           conv2d_transpose_2[0][0]         \n",
      "                                                                 conv2d_3[0][0]                   \n",
      "__________________________________________________________________________________________________\n",
      "dropout_6 (Dropout)             (None, 64, 64, 256)  0           concatenate_2[0][0]              \n",
      "__________________________________________________________________________________________________\n",
      "conv2d_14 (Conv2D)              (None, 64, 64, 128)  295040      dropout_6[0][0]                  \n",
      "__________________________________________________________________________________________________\n",
      "conv2d_15 (Conv2D)              (None, 64, 64, 128)  147584      conv2d_14[0][0]                  \n",
      "__________________________________________________________________________________________________\n",
      "conv2d_transpose_3 (Conv2DTrans (None, 128, 128, 64) 73792       conv2d_15[0][0]                  \n",
      "__________________________________________________________________________________________________\n",
      "concatenate_3 (Concatenate)     (None, 128, 128, 128 0           conv2d_transpose_3[0][0]         \n",
      "                                                                 conv2d_1[0][0]                   \n",
      "__________________________________________________________________________________________________\n",
      "dropout_7 (Dropout)             (None, 128, 128, 128 0           concatenate_3[0][0]              \n",
      "__________________________________________________________________________________________________\n",
      "conv2d_16 (Conv2D)              (None, 128, 128, 64) 73792       dropout_7[0][0]                  \n",
      "__________________________________________________________________________________________________\n",
      "conv2d_17 (Conv2D)              (None, 128, 128, 64) 36928       conv2d_16[0][0]                  \n",
      "__________________________________________________________________________________________________\n",
      "conv2d_18 (Conv2D)              (None, 128, 128, 3)  195         conv2d_17[0][0]                  \n",
      "==================================================================================================\n",
      "Total params: 34,513,475\n",
      "Trainable params: 34,513,475\n",
      "Non-trainable params: 0\n",
      "__________________________________________________________________________________________________\n"
     ]
    }
   ],
   "source": [
    "modele_unet.summary()"
   ]
  },
  {
   "cell_type": "markdown",
   "metadata": {
    "id": "PG-KtNSWWtWW"
   },
   "source": [
    "# Compilation et entraînement\n",
    "<a id='entrainement_modele'></a>\n",
    "\n",
    "Il est nécessaire de compiler le modèle avant de l'entraîner. Lors de la compilation, nous spécifions : \n",
    "- La fonction d'optimisation : Adam ;\n",
    "- La fonction-coût : l'entropie croisée catégorielle ;\n",
    "- La métrique à surveiller : la justesse. "
   ]
  },
  {
   "cell_type": "code",
   "execution_count": 22,
   "metadata": {
    "id": "uckkCSj5TpxD"
   },
   "outputs": [],
   "source": [
    "modele_unet.compile(optimizer=tf.keras.optimizers.Adam(),\n",
    "                   loss=\"sparse_categorical_crossentropy\",\n",
    "                   metrics=\"accuracy\")"
   ]
  },
  {
   "cell_type": "markdown",
   "metadata": {},
   "source": [
    "Il est maintenant possible de spécifier les dernier paramètres et lancer l'entraînement. \n",
    "\n",
    "Puisque nous avons généré nos lots avec une taille infinie (en appelant la fonction ```repeat``` sans spécifier de nombre de répétitions), il est indispensable de définir le nombre d'étapes à réaliser :\n",
    "- Le nombre d'époques, ```nb_epoques```. Ici, nous choisissons d'itérer pendant 20 époques ;\n",
    "- Le nombre d'images d'entraînement à utiliser par époque, ```nb_images_train_par_epoque```: lorsque le nombre d'images dans l'ensemble d'entraînement est connu, ce nombre peut en être facilement déduit. Cependant, ici, Keras considère que l'ensemble d'entraînement contient un nombre infini d'images. Il faut donc spécifier le nombre d'itérations par époque. Ce nombre est simplement : \n",
    "$\\frac{\\textrm{Nombre d'images d'entraînement}}{\\textrm{taille de lot}}$;\n",
    "- Le nombre d'images de validation à utiliser par époque, ```nb_images_val_par_epoque```: il se calcule de la même manière que ```nb_images_train_par_epoque```."
   ]
  },
  {
   "cell_type": "code",
   "execution_count": 24,
   "metadata": {
    "colab": {
     "base_uri": "https://localhost:8080/"
    },
    "id": "PgpxdZ9CXckX",
    "outputId": "def9f944-0be3-460a-d7fc-5fef4b313764",
    "scrolled": true
   },
   "outputs": [
    {
     "name": "stdout",
     "output_type": "stream",
     "text": [
      "Epoch 1/20\n",
      "230/230 [==============================] - 65s 229ms/step - loss: 0.9245 - accuracy: 0.5863 - val_loss: 0.7405 - val_accuracy: 0.6965\n",
      "Epoch 2/20\n",
      "230/230 [==============================] - 53s 232ms/step - loss: 0.6921 - accuracy: 0.7130 - val_loss: 0.6700 - val_accuracy: 0.7288\n",
      "Epoch 3/20\n",
      "230/230 [==============================] - 54s 236ms/step - loss: 0.6285 - accuracy: 0.7479 - val_loss: 0.6238 - val_accuracy: 0.7541\n",
      "Epoch 4/20\n",
      "230/230 [==============================] - 56s 245ms/step - loss: 0.5480 - accuracy: 0.7848 - val_loss: 0.4918 - val_accuracy: 0.8086\n",
      "Epoch 5/20\n",
      "230/230 [==============================] - 61s 264ms/step - loss: 0.5011 - accuracy: 0.8052 - val_loss: 0.4502 - val_accuracy: 0.8286\n",
      "Epoch 6/20\n",
      "230/230 [==============================] - 64s 276ms/step - loss: 0.4703 - accuracy: 0.8176 - val_loss: 0.4357 - val_accuracy: 0.8330\n",
      "Epoch 7/20\n",
      "230/230 [==============================] - 67s 290ms/step - loss: 0.4272 - accuracy: 0.8348 - val_loss: 0.4759 - val_accuracy: 0.8142\n",
      "Epoch 8/20\n",
      "230/230 [==============================] - 67s 291ms/step - loss: 0.4119 - accuracy: 0.8409 - val_loss: 0.4272 - val_accuracy: 0.8371\n",
      "Epoch 9/20\n",
      "230/230 [==============================] - 66s 286ms/step - loss: 0.4033 - accuracy: 0.8449 - val_loss: 0.3912 - val_accuracy: 0.8500\n",
      "Epoch 10/20\n",
      "230/230 [==============================] - 66s 288ms/step - loss: 0.3766 - accuracy: 0.8552 - val_loss: 0.3555 - val_accuracy: 0.8649\n",
      "Epoch 11/20\n",
      "230/230 [==============================] - 66s 289ms/step - loss: 0.3727 - accuracy: 0.8571 - val_loss: 0.3499 - val_accuracy: 0.8649\n",
      "Epoch 12/20\n",
      "230/230 [==============================] - 67s 290ms/step - loss: 0.3731 - accuracy: 0.8576 - val_loss: 0.3621 - val_accuracy: 0.8620\n",
      "Epoch 13/20\n",
      "230/230 [==============================] - 67s 293ms/step - loss: 0.3467 - accuracy: 0.8673 - val_loss: 0.3367 - val_accuracy: 0.8728\n",
      "Epoch 14/20\n",
      "230/230 [==============================] - 67s 290ms/step - loss: 0.3453 - accuracy: 0.8683 - val_loss: 0.3615 - val_accuracy: 0.8624\n",
      "Epoch 15/20\n",
      "230/230 [==============================] - 67s 290ms/step - loss: 0.3289 - accuracy: 0.8739 - val_loss: 0.3459 - val_accuracy: 0.8671\n",
      "Epoch 16/20\n",
      "230/230 [==============================] - 67s 289ms/step - loss: 0.3307 - accuracy: 0.8735 - val_loss: 0.3651 - val_accuracy: 0.8639\n",
      "Epoch 17/20\n",
      "230/230 [==============================] - 69s 301ms/step - loss: 0.3223 - accuracy: 0.8772 - val_loss: 0.3291 - val_accuracy: 0.8773\n",
      "Epoch 18/20\n",
      "230/230 [==============================] - 70s 304ms/step - loss: 0.3142 - accuracy: 0.8796 - val_loss: 0.3298 - val_accuracy: 0.8753\n",
      "Epoch 19/20\n",
      "230/230 [==============================] - 72s 315ms/step - loss: 0.3342 - accuracy: 0.8753 - val_loss: 0.3275 - val_accuracy: 0.8752\n",
      "Epoch 20/20\n",
      "230/230 [==============================] - 72s 315ms/step - loss: 0.3140 - accuracy: 0.8802 - val_loss: 0.3167 - val_accuracy: 0.8797\n"
     ]
    }
   ],
   "source": [
    "nb_epoques = 20\n",
    "\n",
    "nb_images_train = info.splits[\"train\"].num_examples\n",
    "nb_images_train_par_epoque = nb_images_train // taille_lot\n",
    "\n",
    "nb_images_val_par_epoque = taille_validation // taille_lot\n",
    "\n",
    "model_history = modele_unet.fit(train_batches,\n",
    "                                epochs=nb_epoques,\n",
    "                                steps_per_epoch=nb_images_train_par_epoque,\n",
    "                                validation_steps=nb_images_val_par_epoque,\n",
    "                                validation_data=validation_batches)"
   ]
  },
  {
   "cell_type": "markdown",
   "metadata": {
    "id": "_bYfxa21Yj0f"
   },
   "source": [
    "## Affichage de la courbe d'entraînement\n",
    "\n",
    "A partir du dictionnaire ```model_history``` rempli lors de l'entraînement du modèle, nous pouvons tracer la justesse et la valeur de la fonction-coût en fonction des itérations pour les données d'entraînement et de test. "
   ]
  },
  {
   "cell_type": "code",
   "execution_count": 25,
   "metadata": {
    "id": "G7Y_jGMnXfpS"
   },
   "outputs": [],
   "source": [
    "def display_learning_curves(history):\n",
    "    acc = history.history[\"accuracy\"]\n",
    "    val_acc = history.history[\"val_accuracy\"]\n",
    "\n",
    "    loss = history.history[\"loss\"]\n",
    "    val_loss = history.history[\"val_loss\"]\n",
    "\n",
    "    epochs_range = range(nb_epoques)\n",
    "\n",
    "    fig = plt.figure(figsize=(12,6))\n",
    "\n",
    "    plt.subplot(1,2,1)\n",
    "    plt.plot(range(nb_epoques), acc, label=\"Justesse (entraînement)\")\n",
    "    plt.plot(range(nb_epoques), val_acc, label=\"Justesse (validation)\")\n",
    "    plt.title(\"Justesse\")\n",
    "    plt.xlabel(\"Epoque\")\n",
    "    plt.ylabel(\"Justesse\")\n",
    "    plt.legend(loc=\"lower right\")\n",
    "\n",
    "    plt.subplot(1,2,2)\n",
    "    plt.plot(range(nb_epoques), loss, label=\"Fonction coût (entraînement)\")\n",
    "    plt.plot(range(nb_epoques), val_loss, label=\"Fonction coût (validataion)\")\n",
    "    plt.title(\"Fonction coût\")\n",
    "    plt.xlabel(\"Epoque\")\n",
    "    plt.ylabel(\"Fonction coût\")\n",
    "    plt.legend(loc=\"upper right\")\n",
    "\n",
    "    fig.tight_layout()\n",
    "    plt.show()"
   ]
  },
  {
   "cell_type": "code",
   "execution_count": 27,
   "metadata": {
    "colab": {
     "base_uri": "https://localhost:8080/",
     "height": 441
    },
    "id": "biiorjmjYF6O",
    "outputId": "41952cca-f7ee-4110-8695-1019b91d3932"
   },
   "outputs": [
    {
     "data": {
      "image/png": "[encoded data removed]",
      "text/plain": [
       "<Figure size 1200x600 with 2 Axes>"
      ]
     },
     "metadata": {},
     "output_type": "display_data"
    }
   ],
   "source": [
    "display_learning_curves(modele_unet.history)"
   ]
  },
  {
   "cell_type": "markdown",
   "metadata": {},
   "source": [
    "Le modèle affiche des performances correctes à la fois sur les données d'entraînement et de validation : il parvient à généraliser, sans surapprentissage. "
   ]
  },
  {
   "cell_type": "markdown",
   "metadata": {
    "id": "RiG2W81uaS94"
   },
   "source": [
    "\n",
    "# Application du modèle\n",
    "<a id='application'></a>\n",
    "Appliquons maintenant le modèle entraîné à plusieurs images de l'ensemble de données de test. "
   ]
  },
  {
   "cell_type": "markdown",
   "metadata": {},
   "source": [
    "La fonction ```affiche_predictions``` prend en entrée un modèle de segmentation entraîné, ```modele```, un jeu de données ```dataset```, et un nombre, ```nb_images```. \n",
    "\n",
    "Elle applique le modèle ```modele``` aux ```nb_images``` premières images de ```dataset```"
   ]
  },
  {
   "cell_type": "code",
   "execution_count": 53,
   "metadata": {
    "id": "5RdyAnTbZpAH"
   },
   "outputs": [],
   "source": [
    "def affiche_predictions(modele, dataset, nb_images=1):\n",
    "    for image, masque in dataset.take(nb_images):\n",
    "        # Calcul de la prédiction du modèle\n",
    "        segmentation_predite = modele.predict(image)\n",
    "        \n",
    "        # La carte de segmentation renvoyée par le modèle comprend autant de canaux que de classes d'intérêt. \n",
    "        # On convertit cette image en une image à un seul canal, celui de la classe la plus probable. \n",
    "        segmentation_predite = tf.argmax(segmentation_predite, axis=-1)\n",
    "\n",
    "        # Les variables 'image' et 'masque' correspondent à un lot      \n",
    "        # Nous affichons l'image, le vrai masque et le masque prédit de la première image du lot uniquement\n",
    "        affiche([image[0], masque[0], segmentation_predite[0]])"
   ]
  },
  {
   "cell_type": "code",
   "execution_count": 54,
   "metadata": {
    "colab": {
     "base_uri": "https://localhost:8080/",
     "height": 844
    },
    "id": "sm63IU5OZ1wR",
    "outputId": "53eed660-0751-4ded-a390-090087dbb5fc"
   },
   "outputs": [
    {
     "data": {
      "image/png": "[encoded data removed]",
      "text/plain": [
       "<Figure size 1500x1500 with 3 Axes>"
      ]
     },
     "metadata": {},
     "output_type": "display_data"
    },
    {
     "data": {
      "image/png": "[encoded data removed]",
      "text/plain": [
       "<Figure size 1500x1500 with 3 Axes>"
      ]
     },
     "metadata": {},
     "output_type": "display_data"
    },
    {
     "data": {
      "image/png": "[encoded data removed]",
      "text/plain": [
       "<Figure size 1500x1500 with 3 Axes>"
      ]
     },
     "metadata": {},
     "output_type": "display_data"
    }
   ],
   "source": [
    "affiche_predictions(modele_unet, test_batches.skip(5), 3)"
   ]
  },
  {
   "cell_type": "markdown",
   "metadata": {},
   "source": [
    "# A vous de jouer\n",
    "<a id='avousdejouer'></a>\n",
    "\n",
    "A vous de jouer maintenant pour essayer d'améliorer encore la performance du modèle. Voici quelques pistes : \n",
    "- Augmenter la taille de lot ;\n",
    "- Modifier le taux d'entraînement (ici, c'est la valeur par défaut, 0.001, qui a été utilisée) ;\n",
    "- Augmenter le nombre d'itérations ;\n",
    "- Augmenter la résolution des images d'entrée ;\n",
    "- Etc. "
   ]
  },
  {
   "cell_type": "code",
   "execution_count": null,
   "metadata": {},
   "outputs": [],
   "source": []
  }
 ],
 "metadata": {
  "accelerator": "GPU",
  "colab": {
   "name": "unet_pet_segmentation.ipynb",
   "provenance": [
    {
     "file_id": "https://github.com/margaretmz/image-segmentation/blob/main/unet_pet_segmentation.ipynb",
     "timestamp": 1697782838705
    }
   ],
   "toc_visible": true
  },
  "kernelspec": {
   "display_name": "Python 3 (ipykernel)",
   "language": "python",
   "name": "python3"
  },
  "language_info": {
   "codemirror_mode": {
    "name": "ipython",
    "version": 3
   },
   "file_extension": ".py",
   "mimetype": "text/x-python",
   "name": "python",
   "nbconvert_exporter": "python",
   "pygments_lexer": "ipython3",
   "version": "3.9.13"
  },
  "widgets": {
   "application/vnd.jupyter.widget-state+json": {
    "0a695a7240fe4c0a947cd36c1948d308": {
     "model_module": "@jupyter-widgets/controls",
     "model_module_version": "1.5.0",
     "model_name": "DescriptionStyleModel",
     "state": {
      "_model_module": "@jupyter-widgets/controls",
      "_model_module_version": "1.5.0",
      "_model_name": "DescriptionStyleModel",
      "_view_count": null,
      "_view_module": "@jupyter-widgets/base",
      "_view_module_version": "1.2.0",
      "_view_name": "StyleView",
      "description_width": ""
     }
    },
    "118bd3d50d4e4b2b8297d0f821135f57": {
     "model_module": "@jupyter-widgets/base",
     "model_module_version": "1.2.0",
     "model_name": "LayoutModel",
     "state": {
      "_model_module": "@jupyter-widgets/base",
      "_model_module_version": "1.2.0",
      "_model_name": "LayoutModel",
      "_view_count": null,
      "_view_module": "@jupyter-widgets/base",
      "_view_module_version": "1.2.0",
      "_view_name": "LayoutView",
      "align_content": null,
      "align_items": null,
      "align_self": null,
      "border": null,
      "bottom": null,
      "display": null,
      "flex": null,
      "flex_flow": null,
      "grid_area": null,
      "grid_auto_columns": null,
      "grid_auto_flow": null,
      "grid_auto_rows": null,
      "grid_column": null,
      "grid_gap": null,
      "grid_row": null,
      "grid_template_areas": null,
      "grid_template_columns": null,
      "grid_template_rows": null,
      "height": null,
      "justify_content": null,
      "justify_items": null,
      "left": null,
      "margin": null,
      "max_height": null,
      "max_width": null,
      "min_height": null,
      "min_width": null,
      "object_fit": null,
      "object_position": null,
      "order": null,
      "overflow": null,
      "overflow_x": null,
      "overflow_y": null,
      "padding": null,
      "right": null,
      "top": null,
      "visibility": null,
      "width": "20px"
     }
    },
    "1b8a2344a0aa42b5b6687640932065d4": {
     "model_module": "@jupyter-widgets/controls",
     "model_module_version": "1.5.0",
     "model_name": "ProgressStyleModel",
     "state": {
      "_model_module": "@jupyter-widgets/controls",
      "_model_module_version": "1.5.0",
      "_model_name": "ProgressStyleModel",
      "_view_count": null,
      "_view_module": "@jupyter-widgets/base",
      "_view_module_version": "1.2.0",
      "_view_name": "StyleView",
      "bar_color": null,
      "description_width": ""
     }
    },
    "1c4b227491b54cf3ba64b320d291564e": {
     "model_module": "@jupyter-widgets/controls",
     "model_module_version": "1.5.0",
     "model_name": "HTMLModel",
     "state": {
      "_dom_classes": [],
      "_model_module": "@jupyter-widgets/controls",
      "_model_module_version": "1.5.0",
      "_model_name": "HTMLModel",
      "_view_count": null,
      "_view_module": "@jupyter-widgets/controls",
      "_view_module_version": "1.5.0",
      "_view_name": "HTMLView",
      "description": "",
      "description_tooltip": null,
      "layout": "IPY_MODEL_3a2370ce20de45c1970b097ed4b5f5b4",
      "placeholder": "​",
      "style": "IPY_MODEL_e638155ab996446788be094dc1c3011f",
      "value": "100%"
     }
    },
    "1e6053ee2e12447b9f503e8e957590f1": {
     "model_module": "@jupyter-widgets/controls",
     "model_module_version": "1.5.0",
     "model_name": "HTMLModel",
     "state": {
      "_dom_classes": [],
      "_model_module": "@jupyter-widgets/controls",
      "_model_module_version": "1.5.0",
      "_model_name": "HTMLModel",
      "_view_count": null,
      "_view_module": "@jupyter-widgets/controls",
      "_view_module_version": "1.5.0",
      "_view_name": "HTMLView",
      "description": "",
      "description_tooltip": null,
      "layout": "IPY_MODEL_51f1211ea1174147b6ec96a192a3a72b",
      "placeholder": "​",
      "style": "IPY_MODEL_9f0e014b96d94f44a62dd5d35e219f56",
      "value": " 3648/0 [00:02&lt;00:00, 1380.80 examples/s]"
     }
    },
    "23e94fd0de6e474ca8045d48077b4a54": {
     "model_module": "@jupyter-widgets/controls",
     "model_module_version": "1.5.0",
     "model_name": "HBoxModel",
     "state": {
      "_dom_classes": [],
      "_model_module": "@jupyter-widgets/controls",
      "_model_module_version": "1.5.0",
      "_model_name": "HBoxModel",
      "_view_count": null,
      "_view_module": "@jupyter-widgets/controls",
      "_view_module_version": "1.5.0",
      "_view_name": "HBoxView",
      "box_style": "",
      "children": [
       "IPY_MODEL_5314e625437a4063976fe92dd080057c",
       "IPY_MODEL_6b5cc024c77b4db68e40355a7bb42cd2",
       "IPY_MODEL_6ade743edc774108b72ce70904110f38"
      ],
      "layout": "IPY_MODEL_fd2b72c12dda4a1795d8e393e72e4ef9"
     }
    },
    "2553b6676e1945d19273c375b9b20261": {
     "model_module": "@jupyter-widgets/controls",
     "model_module_version": "1.5.0",
     "model_name": "FloatProgressModel",
     "state": {
      "_dom_classes": [],
      "_model_module": "@jupyter-widgets/controls",
      "_model_module_version": "1.5.0",
      "_model_name": "FloatProgressModel",
      "_view_count": null,
      "_view_module": "@jupyter-widgets/controls",
      "_view_module_version": "1.5.0",
      "_view_name": "ProgressView",
      "bar_style": "danger",
      "description": "",
      "description_tooltip": null,
      "layout": "IPY_MODEL_d5aa8844ecc34244ae88f1611ca60406",
      "max": 3669,
      "min": 0,
      "orientation": "horizontal",
      "style": "IPY_MODEL_eb46ba5f8309483ca2ecb62c8a2cca23",
      "value": 3668
     }
    },
    "29358fe1830e4c6bb704f43569d36b7a": {
     "model_module": "@jupyter-widgets/base",
     "model_module_version": "1.2.0",
     "model_name": "LayoutModel",
     "state": {
      "_model_module": "@jupyter-widgets/base",
      "_model_module_version": "1.2.0",
      "_model_name": "LayoutModel",
      "_view_count": null,
      "_view_module": "@jupyter-widgets/base",
      "_view_module_version": "1.2.0",
      "_view_name": "LayoutView",
      "align_content": null,
      "align_items": null,
      "align_self": null,
      "border": null,
      "bottom": null,
      "display": null,
      "flex": null,
      "flex_flow": null,
      "grid_area": null,
      "grid_auto_columns": null,
      "grid_auto_flow": null,
      "grid_auto_rows": null,
      "grid_column": null,
      "grid_gap": null,
      "grid_row": null,
      "grid_template_areas": null,
      "grid_template_columns": null,
      "grid_template_rows": null,
      "height": null,
      "justify_content": null,
      "justify_items": null,
      "left": null,
      "margin": null,
      "max_height": null,
      "max_width": null,
      "min_height": null,
      "min_width": null,
      "object_fit": null,
      "object_position": null,
      "order": null,
      "overflow": null,
      "overflow_x": null,
      "overflow_y": null,
      "padding": null,
      "right": null,
      "top": null,
      "visibility": null,
      "width": null
     }
    },
    "2d72975ea468400dac4bc799a6083008": {
     "model_module": "@jupyter-widgets/controls",
     "model_module_version": "1.5.0",
     "model_name": "FloatProgressModel",
     "state": {
      "_dom_classes": [],
      "_model_module": "@jupyter-widgets/controls",
      "_model_module_version": "1.5.0",
      "_model_name": "FloatProgressModel",
      "_view_count": null,
      "_view_module": "@jupyter-widgets/controls",
      "_view_module_version": "1.5.0",
      "_view_name": "ProgressView",
      "bar_style": "success",
      "description": "",
      "description_tooltip": null,
      "layout": "IPY_MODEL_44643b8ca0634f57a9eba2cdda8a3e7b",
      "max": 1,
      "min": 0,
      "orientation": "horizontal",
      "style": "IPY_MODEL_e0feb05decf142e98c38136fe132b510",
      "value": 1
     }
    },
    "2dba6a79e1e0464aa83792f4bd8a7101": {
     "model_module": "@jupyter-widgets/controls",
     "model_module_version": "1.5.0",
     "model_name": "ProgressStyleModel",
     "state": {
      "_model_module": "@jupyter-widgets/controls",
      "_model_module_version": "1.5.0",
      "_model_name": "ProgressStyleModel",
      "_view_count": null,
      "_view_module": "@jupyter-widgets/base",
      "_view_module_version": "1.2.0",
      "_view_name": "StyleView",
      "bar_color": null,
      "description_width": ""
     }
    },
    "32904c8ee03b4598a6de6dda4b17cf84": {
     "model_module": "@jupyter-widgets/base",
     "model_module_version": "1.2.0",
     "model_name": "LayoutModel",
     "state": {
      "_model_module": "@jupyter-widgets/base",
      "_model_module_version": "1.2.0",
      "_model_name": "LayoutModel",
      "_view_count": null,
      "_view_module": "@jupyter-widgets/base",
      "_view_module_version": "1.2.0",
      "_view_name": "LayoutView",
      "align_content": null,
      "align_items": null,
      "align_self": null,
      "border": null,
      "bottom": null,
      "display": null,
      "flex": null,
      "flex_flow": null,
      "grid_area": null,
      "grid_auto_columns": null,
      "grid_auto_flow": null,
      "grid_auto_rows": null,
      "grid_column": null,
      "grid_gap": null,
      "grid_row": null,
      "grid_template_areas": null,
      "grid_template_columns": null,
      "grid_template_rows": null,
      "height": null,
      "justify_content": null,
      "justify_items": null,
      "left": null,
      "margin": null,
      "max_height": null,
      "max_width": null,
      "min_height": null,
      "min_width": null,
      "object_fit": null,
      "object_position": null,
      "order": null,
      "overflow": null,
      "overflow_x": null,
      "overflow_y": null,
      "padding": null,
      "right": null,
      "top": null,
      "visibility": null,
      "width": null
     }
    },
    "3442287cbd034122915e2627270aeb8d": {
     "model_module": "@jupyter-widgets/controls",
     "model_module_version": "1.5.0",
     "model_name": "FloatProgressModel",
     "state": {
      "_dom_classes": [],
      "_model_module": "@jupyter-widgets/controls",
      "_model_module_version": "1.5.0",
      "_model_name": "FloatProgressModel",
      "_view_count": null,
      "_view_module": "@jupyter-widgets/controls",
      "_view_module_version": "1.5.0",
      "_view_name": "ProgressView",
      "bar_style": "success",
      "description": "",
      "description_tooltip": null,
      "layout": "IPY_MODEL_9593757700bf466bb4f34268774c7ca0",
      "max": 1,
      "min": 0,
      "orientation": "horizontal",
      "style": "IPY_MODEL_2dba6a79e1e0464aa83792f4bd8a7101",
      "value": 1
     }
    },
    "344673b65f974322b52b5798a35134a5": {
     "model_module": "@jupyter-widgets/base",
     "model_module_version": "1.2.0",
     "model_name": "LayoutModel",
     "state": {
      "_model_module": "@jupyter-widgets/base",
      "_model_module_version": "1.2.0",
      "_model_name": "LayoutModel",
      "_view_count": null,
      "_view_module": "@jupyter-widgets/base",
      "_view_module_version": "1.2.0",
      "_view_name": "LayoutView",
      "align_content": null,
      "align_items": null,
      "align_self": null,
      "border": null,
      "bottom": null,
      "display": null,
      "flex": null,
      "flex_flow": null,
      "grid_area": null,
      "grid_auto_columns": null,
      "grid_auto_flow": null,
      "grid_auto_rows": null,
      "grid_column": null,
      "grid_gap": null,
      "grid_row": null,
      "grid_template_areas": null,
      "grid_template_columns": null,
      "grid_template_rows": null,
      "height": null,
      "justify_content": null,
      "justify_items": null,
      "left": null,
      "margin": null,
      "max_height": null,
      "max_width": null,
      "min_height": null,
      "min_width": null,
      "object_fit": null,
      "object_position": null,
      "order": null,
      "overflow": null,
      "overflow_x": null,
      "overflow_y": null,
      "padding": null,
      "right": null,
      "top": null,
      "visibility": null,
      "width": "20px"
     }
    },
    "34ea1291673344eebd58bd2d30b24610": {
     "model_module": "@jupyter-widgets/base",
     "model_module_version": "1.2.0",
     "model_name": "LayoutModel",
     "state": {
      "_model_module": "@jupyter-widgets/base",
      "_model_module_version": "1.2.0",
      "_model_name": "LayoutModel",
      "_view_count": null,
      "_view_module": "@jupyter-widgets/base",
      "_view_module_version": "1.2.0",
      "_view_name": "LayoutView",
      "align_content": null,
      "align_items": null,
      "align_self": null,
      "border": null,
      "bottom": null,
      "display": null,
      "flex": null,
      "flex_flow": null,
      "grid_area": null,
      "grid_auto_columns": null,
      "grid_auto_flow": null,
      "grid_auto_rows": null,
      "grid_column": null,
      "grid_gap": null,
      "grid_row": null,
      "grid_template_areas": null,
      "grid_template_columns": null,
      "grid_template_rows": null,
      "height": null,
      "justify_content": null,
      "justify_items": null,
      "left": null,
      "margin": null,
      "max_height": null,
      "max_width": null,
      "min_height": null,
      "min_width": null,
      "object_fit": null,
      "object_position": null,
      "order": null,
      "overflow": null,
      "overflow_x": null,
      "overflow_y": null,
      "padding": null,
      "right": null,
      "top": null,
      "visibility": null,
      "width": null
     }
    },
    "36f86af274cb422ab1d901124f1f7615": {
     "model_module": "@jupyter-widgets/controls",
     "model_module_version": "1.5.0",
     "model_name": "DescriptionStyleModel",
     "state": {
      "_model_module": "@jupyter-widgets/controls",
      "_model_module_version": "1.5.0",
      "_model_name": "DescriptionStyleModel",
      "_view_count": null,
      "_view_module": "@jupyter-widgets/base",
      "_view_module_version": "1.2.0",
      "_view_name": "StyleView",
      "description_width": ""
     }
    },
    "3a2370ce20de45c1970b097ed4b5f5b4": {
     "model_module": "@jupyter-widgets/base",
     "model_module_version": "1.2.0",
     "model_name": "LayoutModel",
     "state": {
      "_model_module": "@jupyter-widgets/base",
      "_model_module_version": "1.2.0",
      "_model_name": "LayoutModel",
      "_view_count": null,
      "_view_module": "@jupyter-widgets/base",
      "_view_module_version": "1.2.0",
      "_view_name": "LayoutView",
      "align_content": null,
      "align_items": null,
      "align_self": null,
      "border": null,
      "bottom": null,
      "display": null,
      "flex": null,
      "flex_flow": null,
      "grid_area": null,
      "grid_auto_columns": null,
      "grid_auto_flow": null,
      "grid_auto_rows": null,
      "grid_column": null,
      "grid_gap": null,
      "grid_row": null,
      "grid_template_areas": null,
      "grid_template_columns": null,
      "grid_template_rows": null,
      "height": null,
      "justify_content": null,
      "justify_items": null,
      "left": null,
      "margin": null,
      "max_height": null,
      "max_width": null,
      "min_height": null,
      "min_width": null,
      "object_fit": null,
      "object_position": null,
      "order": null,
      "overflow": null,
      "overflow_x": null,
      "overflow_y": null,
      "padding": null,
      "right": null,
      "top": null,
      "visibility": null,
      "width": null
     }
    },
    "3c713bd0e9b6448497cb1e88a19c0314": {
     "model_module": "@jupyter-widgets/controls",
     "model_module_version": "1.5.0",
     "model_name": "ProgressStyleModel",
     "state": {
      "_model_module": "@jupyter-widgets/controls",
      "_model_module_version": "1.5.0",
      "_model_name": "ProgressStyleModel",
      "_view_count": null,
      "_view_module": "@jupyter-widgets/base",
      "_view_module_version": "1.2.0",
      "_view_name": "StyleView",
      "bar_color": null,
      "description_width": ""
     }
    },
    "418781c840024c978a06801b4b406b70": {
     "model_module": "@jupyter-widgets/base",
     "model_module_version": "1.2.0",
     "model_name": "LayoutModel",
     "state": {
      "_model_module": "@jupyter-widgets/base",
      "_model_module_version": "1.2.0",
      "_model_name": "LayoutModel",
      "_view_count": null,
      "_view_module": "@jupyter-widgets/base",
      "_view_module_version": "1.2.0",
      "_view_name": "LayoutView",
      "align_content": null,
      "align_items": null,
      "align_self": null,
      "border": null,
      "bottom": null,
      "display": null,
      "flex": null,
      "flex_flow": null,
      "grid_area": null,
      "grid_auto_columns": null,
      "grid_auto_flow": null,
      "grid_auto_rows": null,
      "grid_column": null,
      "grid_gap": null,
      "grid_row": null,
      "grid_template_areas": null,
      "grid_template_columns": null,
      "grid_template_rows": null,
      "height": null,
      "justify_content": null,
      "justify_items": null,
      "left": null,
      "margin": null,
      "max_height": null,
      "max_width": null,
      "min_height": null,
      "min_width": null,
      "object_fit": null,
      "object_position": null,
      "order": null,
      "overflow": null,
      "overflow_x": null,
      "overflow_y": null,
      "padding": null,
      "right": null,
      "top": null,
      "visibility": null,
      "width": null
     }
    },
    "42ffc78949f543099bfcbff115c4d96b": {
     "model_module": "@jupyter-widgets/base",
     "model_module_version": "1.2.0",
     "model_name": "LayoutModel",
     "state": {
      "_model_module": "@jupyter-widgets/base",
      "_model_module_version": "1.2.0",
      "_model_name": "LayoutModel",
      "_view_count": null,
      "_view_module": "@jupyter-widgets/base",
      "_view_module_version": "1.2.0",
      "_view_name": "LayoutView",
      "align_content": null,
      "align_items": null,
      "align_self": null,
      "border": null,
      "bottom": null,
      "display": null,
      "flex": null,
      "flex_flow": null,
      "grid_area": null,
      "grid_auto_columns": null,
      "grid_auto_flow": null,
      "grid_auto_rows": null,
      "grid_column": null,
      "grid_gap": null,
      "grid_row": null,
      "grid_template_areas": null,
      "grid_template_columns": null,
      "grid_template_rows": null,
      "height": null,
      "justify_content": null,
      "justify_items": null,
      "left": null,
      "margin": null,
      "max_height": null,
      "max_width": null,
      "min_height": null,
      "min_width": null,
      "object_fit": null,
      "object_position": null,
      "order": null,
      "overflow": null,
      "overflow_x": null,
      "overflow_y": null,
      "padding": null,
      "right": null,
      "top": null,
      "visibility": null,
      "width": null
     }
    },
    "434add8136604c5e97f2117fbe59bb03": {
     "model_module": "@jupyter-widgets/controls",
     "model_module_version": "1.5.0",
     "model_name": "ProgressStyleModel",
     "state": {
      "_model_module": "@jupyter-widgets/controls",
      "_model_module_version": "1.5.0",
      "_model_name": "ProgressStyleModel",
      "_view_count": null,
      "_view_module": "@jupyter-widgets/base",
      "_view_module_version": "1.2.0",
      "_view_name": "StyleView",
      "bar_color": null,
      "description_width": ""
     }
    },
    "44643b8ca0634f57a9eba2cdda8a3e7b": {
     "model_module": "@jupyter-widgets/base",
     "model_module_version": "1.2.0",
     "model_name": "LayoutModel",
     "state": {
      "_model_module": "@jupyter-widgets/base",
      "_model_module_version": "1.2.0",
      "_model_name": "LayoutModel",
      "_view_count": null,
      "_view_module": "@jupyter-widgets/base",
      "_view_module_version": "1.2.0",
      "_view_name": "LayoutView",
      "align_content": null,
      "align_items": null,
      "align_self": null,
      "border": null,
      "bottom": null,
      "display": null,
      "flex": null,
      "flex_flow": null,
      "grid_area": null,
      "grid_auto_columns": null,
      "grid_auto_flow": null,
      "grid_auto_rows": null,
      "grid_column": null,
      "grid_gap": null,
      "grid_row": null,
      "grid_template_areas": null,
      "grid_template_columns": null,
      "grid_template_rows": null,
      "height": null,
      "justify_content": null,
      "justify_items": null,
      "left": null,
      "margin": null,
      "max_height": null,
      "max_width": null,
      "min_height": null,
      "min_width": null,
      "object_fit": null,
      "object_position": null,
      "order": null,
      "overflow": null,
      "overflow_x": null,
      "overflow_y": null,
      "padding": null,
      "right": null,
      "top": null,
      "visibility": null,
      "width": "20px"
     }
    },
    "481461d346cd473892fd1f2397183843": {
     "model_module": "@jupyter-widgets/controls",
     "model_module_version": "1.5.0",
     "model_name": "DescriptionStyleModel",
     "state": {
      "_model_module": "@jupyter-widgets/controls",
      "_model_module_version": "1.5.0",
      "_model_name": "DescriptionStyleModel",
      "_view_count": null,
      "_view_module": "@jupyter-widgets/base",
      "_view_module_version": "1.2.0",
      "_view_name": "StyleView",
      "description_width": ""
     }
    },
    "493022dc5889447784e6ec7b8eecdee0": {
     "model_module": "@jupyter-widgets/controls",
     "model_module_version": "1.5.0",
     "model_name": "HBoxModel",
     "state": {
      "_dom_classes": [],
      "_model_module": "@jupyter-widgets/controls",
      "_model_module_version": "1.5.0",
      "_model_name": "HBoxModel",
      "_view_count": null,
      "_view_module": "@jupyter-widgets/controls",
      "_view_module_version": "1.5.0",
      "_view_name": "HBoxView",
      "box_style": "",
      "children": [
       "IPY_MODEL_a4800f0691a8494eb5d649320658c81e",
       "IPY_MODEL_2d72975ea468400dac4bc799a6083008",
       "IPY_MODEL_980868db6c6146a1b112e4e06a007485"
      ],
      "layout": "IPY_MODEL_29358fe1830e4c6bb704f43569d36b7a"
     }
    },
    "4bf384192418428e9d7b3c109341b714": {
     "model_module": "@jupyter-widgets/controls",
     "model_module_version": "1.5.0",
     "model_name": "HTMLModel",
     "state": {
      "_dom_classes": [],
      "_model_module": "@jupyter-widgets/controls",
      "_model_module_version": "1.5.0",
      "_model_name": "HTMLModel",
      "_view_count": null,
      "_view_module": "@jupyter-widgets/controls",
      "_view_module_version": "1.5.0",
      "_view_name": "HTMLView",
      "description": "",
      "description_tooltip": null,
      "layout": "IPY_MODEL_d2f4c9b04e81450e8f5d55550f36c75e",
      "placeholder": "​",
      "style": "IPY_MODEL_36f86af274cb422ab1d901124f1f7615",
      "value": " 3606/0 [00:02&lt;00:00, 1373.90 examples/s]"
     }
    },
    "51672d2ad99c400f9c4084a45fbea913": {
     "model_module": "@jupyter-widgets/controls",
     "model_module_version": "1.5.0",
     "model_name": "FloatProgressModel",
     "state": {
      "_dom_classes": [],
      "_model_module": "@jupyter-widgets/controls",
      "_model_module_version": "1.5.0",
      "_model_name": "FloatProgressModel",
      "_view_count": null,
      "_view_module": "@jupyter-widgets/controls",
      "_view_module_version": "1.5.0",
      "_view_name": "ProgressView",
      "bar_style": "info",
      "description": "",
      "description_tooltip": null,
      "layout": "IPY_MODEL_faca5258bd424812a0b7d616bcc4dec2",
      "max": 1,
      "min": 0,
      "orientation": "horizontal",
      "style": "IPY_MODEL_3c713bd0e9b6448497cb1e88a19c0314",
      "value": 1
     }
    },
    "51f1211ea1174147b6ec96a192a3a72b": {
     "model_module": "@jupyter-widgets/base",
     "model_module_version": "1.2.0",
     "model_name": "LayoutModel",
     "state": {
      "_model_module": "@jupyter-widgets/base",
      "_model_module_version": "1.2.0",
      "_model_name": "LayoutModel",
      "_view_count": null,
      "_view_module": "@jupyter-widgets/base",
      "_view_module_version": "1.2.0",
      "_view_name": "LayoutView",
      "align_content": null,
      "align_items": null,
      "align_self": null,
      "border": null,
      "bottom": null,
      "display": null,
      "flex": null,
      "flex_flow": null,
      "grid_area": null,
      "grid_auto_columns": null,
      "grid_auto_flow": null,
      "grid_auto_rows": null,
      "grid_column": null,
      "grid_gap": null,
      "grid_row": null,
      "grid_template_areas": null,
      "grid_template_columns": null,
      "grid_template_rows": null,
      "height": null,
      "justify_content": null,
      "justify_items": null,
      "left": null,
      "margin": null,
      "max_height": null,
      "max_width": null,
      "min_height": null,
      "min_width": null,
      "object_fit": null,
      "object_position": null,
      "order": null,
      "overflow": null,
      "overflow_x": null,
      "overflow_y": null,
      "padding": null,
      "right": null,
      "top": null,
      "visibility": null,
      "width": null
     }
    },
    "5314e625437a4063976fe92dd080057c": {
     "model_module": "@jupyter-widgets/controls",
     "model_module_version": "1.5.0",
     "model_name": "HTMLModel",
     "state": {
      "_dom_classes": [],
      "_model_module": "@jupyter-widgets/controls",
      "_model_module_version": "1.5.0",
      "_model_name": "HTMLModel",
      "_view_count": null,
      "_view_module": "@jupyter-widgets/controls",
      "_view_module_version": "1.5.0",
      "_view_name": "HTMLView",
      "description": "",
      "description_tooltip": null,
      "layout": "IPY_MODEL_32904c8ee03b4598a6de6dda4b17cf84",
      "placeholder": "​",
      "style": "IPY_MODEL_7048ef40e4b8498ca0eaacec5a93c782",
      "value": "Dl Completed...: 100%"
     }
    },
    "637658d7b18141e08be0969585f9166b": {
     "model_module": "@jupyter-widgets/controls",
     "model_module_version": "1.5.0",
     "model_name": "DescriptionStyleModel",
     "state": {
      "_model_module": "@jupyter-widgets/controls",
      "_model_module_version": "1.5.0",
      "_model_name": "DescriptionStyleModel",
      "_view_count": null,
      "_view_module": "@jupyter-widgets/base",
      "_view_module_version": "1.2.0",
      "_view_name": "StyleView",
      "description_width": ""
     }
    },
    "6ade743edc774108b72ce70904110f38": {
     "model_module": "@jupyter-widgets/controls",
     "model_module_version": "1.5.0",
     "model_name": "HTMLModel",
     "state": {
      "_dom_classes": [],
      "_model_module": "@jupyter-widgets/controls",
      "_model_module_version": "1.5.0",
      "_model_name": "HTMLModel",
      "_view_count": null,
      "_view_module": "@jupyter-widgets/controls",
      "_view_module_version": "1.5.0",
      "_view_name": "HTMLView",
      "description": "",
      "description_tooltip": null,
      "layout": "IPY_MODEL_94cfb87411314d6ab5be41d2ff5e37c6",
      "placeholder": "​",
      "style": "IPY_MODEL_cd91675d50f244de8c438a6ed5108975",
      "value": " 2/2 [00:34&lt;00:00, 15.54s/ url]"
     }
    },
    "6af765f25ec54d6dbc63f96b0576a3f1": {
     "model_module": "@jupyter-widgets/controls",
     "model_module_version": "1.5.0",
     "model_name": "HTMLModel",
     "state": {
      "_dom_classes": [],
      "_model_module": "@jupyter-widgets/controls",
      "_model_module_version": "1.5.0",
      "_model_name": "HTMLModel",
      "_view_count": null,
      "_view_module": "@jupyter-widgets/controls",
      "_view_module_version": "1.5.0",
      "_view_name": "HTMLView",
      "description": "",
      "description_tooltip": null,
      "layout": "IPY_MODEL_88c304a2ffc542ccbfbb0dec0132d33d",
      "placeholder": "​",
      "style": "IPY_MODEL_481461d346cd473892fd1f2397183843",
      "value": "Dl Size...: 100%"
     }
    },
    "6b5cc024c77b4db68e40355a7bb42cd2": {
     "model_module": "@jupyter-widgets/controls",
     "model_module_version": "1.5.0",
     "model_name": "FloatProgressModel",
     "state": {
      "_dom_classes": [],
      "_model_module": "@jupyter-widgets/controls",
      "_model_module_version": "1.5.0",
      "_model_name": "FloatProgressModel",
      "_view_count": null,
      "_view_module": "@jupyter-widgets/controls",
      "_view_module_version": "1.5.0",
      "_view_name": "ProgressView",
      "bar_style": "success",
      "description": "",
      "description_tooltip": null,
      "layout": "IPY_MODEL_118bd3d50d4e4b2b8297d0f821135f57",
      "max": 1,
      "min": 0,
      "orientation": "horizontal",
      "style": "IPY_MODEL_7148b25353984792bd376b2e82339309",
      "value": 1
     }
    },
    "7048ef40e4b8498ca0eaacec5a93c782": {
     "model_module": "@jupyter-widgets/controls",
     "model_module_version": "1.5.0",
     "model_name": "DescriptionStyleModel",
     "state": {
      "_model_module": "@jupyter-widgets/controls",
      "_model_module_version": "1.5.0",
      "_model_name": "DescriptionStyleModel",
      "_view_count": null,
      "_view_module": "@jupyter-widgets/base",
      "_view_module_version": "1.2.0",
      "_view_name": "StyleView",
      "description_width": ""
     }
    },
    "708034d836fb4a5bb866b62e98d2c462": {
     "model_module": "@jupyter-widgets/base",
     "model_module_version": "1.2.0",
     "model_name": "LayoutModel",
     "state": {
      "_model_module": "@jupyter-widgets/base",
      "_model_module_version": "1.2.0",
      "_model_name": "LayoutModel",
      "_view_count": null,
      "_view_module": "@jupyter-widgets/base",
      "_view_module_version": "1.2.0",
      "_view_name": "LayoutView",
      "align_content": null,
      "align_items": null,
      "align_self": null,
      "border": null,
      "bottom": null,
      "display": null,
      "flex": null,
      "flex_flow": null,
      "grid_area": null,
      "grid_auto_columns": null,
      "grid_auto_flow": null,
      "grid_auto_rows": null,
      "grid_column": null,
      "grid_gap": null,
      "grid_row": null,
      "grid_template_areas": null,
      "grid_template_columns": null,
      "grid_template_rows": null,
      "height": null,
      "justify_content": null,
      "justify_items": null,
      "left": null,
      "margin": null,
      "max_height": null,
      "max_width": null,
      "min_height": null,
      "min_width": null,
      "object_fit": null,
      "object_position": null,
      "order": null,
      "overflow": null,
      "overflow_x": null,
      "overflow_y": null,
      "padding": null,
      "right": null,
      "top": null,
      "visibility": null,
      "width": null
     }
    },
    "7148b25353984792bd376b2e82339309": {
     "model_module": "@jupyter-widgets/controls",
     "model_module_version": "1.5.0",
     "model_name": "ProgressStyleModel",
     "state": {
      "_model_module": "@jupyter-widgets/controls",
      "_model_module_version": "1.5.0",
      "_model_name": "ProgressStyleModel",
      "_view_count": null,
      "_view_module": "@jupyter-widgets/base",
      "_view_module_version": "1.2.0",
      "_view_name": "StyleView",
      "bar_color": null,
      "description_width": ""
     }
    },
    "73ccac3733cf41afa296e96d8f5ef1d8": {
     "model_module": "@jupyter-widgets/base",
     "model_module_version": "1.2.0",
     "model_name": "LayoutModel",
     "state": {
      "_model_module": "@jupyter-widgets/base",
      "_model_module_version": "1.2.0",
      "_model_name": "LayoutModel",
      "_view_count": null,
      "_view_module": "@jupyter-widgets/base",
      "_view_module_version": "1.2.0",
      "_view_name": "LayoutView",
      "align_content": null,
      "align_items": null,
      "align_self": null,
      "border": null,
      "bottom": null,
      "display": null,
      "flex": null,
      "flex_flow": null,
      "grid_area": null,
      "grid_auto_columns": null,
      "grid_auto_flow": null,
      "grid_auto_rows": null,
      "grid_column": null,
      "grid_gap": null,
      "grid_row": null,
      "grid_template_areas": null,
      "grid_template_columns": null,
      "grid_template_rows": null,
      "height": null,
      "justify_content": null,
      "justify_items": null,
      "left": null,
      "margin": null,
      "max_height": null,
      "max_width": null,
      "min_height": null,
      "min_width": null,
      "object_fit": null,
      "object_position": null,
      "order": null,
      "overflow": null,
      "overflow_x": null,
      "overflow_y": null,
      "padding": null,
      "right": null,
      "top": null,
      "visibility": null,
      "width": null
     }
    },
    "74c13ee1deba474a95e8524e2b1b9524": {
     "model_module": "@jupyter-widgets/base",
     "model_module_version": "1.2.0",
     "model_name": "LayoutModel",
     "state": {
      "_model_module": "@jupyter-widgets/base",
      "_model_module_version": "1.2.0",
      "_model_name": "LayoutModel",
      "_view_count": null,
      "_view_module": "@jupyter-widgets/base",
      "_view_module_version": "1.2.0",
      "_view_name": "LayoutView",
      "align_content": null,
      "align_items": null,
      "align_self": null,
      "border": null,
      "bottom": null,
      "display": null,
      "flex": null,
      "flex_flow": null,
      "grid_area": null,
      "grid_auto_columns": null,
      "grid_auto_flow": null,
      "grid_auto_rows": null,
      "grid_column": null,
      "grid_gap": null,
      "grid_row": null,
      "grid_template_areas": null,
      "grid_template_columns": null,
      "grid_template_rows": null,
      "height": null,
      "justify_content": null,
      "justify_items": null,
      "left": null,
      "margin": null,
      "max_height": null,
      "max_width": null,
      "min_height": null,
      "min_width": null,
      "object_fit": null,
      "object_position": null,
      "order": null,
      "overflow": null,
      "overflow_x": null,
      "overflow_y": null,
      "padding": null,
      "right": null,
      "top": null,
      "visibility": null,
      "width": null
     }
    },
    "7b8ccd636ecc44418fdcfb9deef219a7": {
     "model_module": "@jupyter-widgets/controls",
     "model_module_version": "1.5.0",
     "model_name": "HBoxModel",
     "state": {
      "_dom_classes": [],
      "_model_module": "@jupyter-widgets/controls",
      "_model_module_version": "1.5.0",
      "_model_name": "HBoxModel",
      "_view_count": null,
      "_view_module": "@jupyter-widgets/controls",
      "_view_module_version": "1.5.0",
      "_view_name": "HBoxView",
      "box_style": "",
      "children": [
       "IPY_MODEL_6af765f25ec54d6dbc63f96b0576a3f1",
       "IPY_MODEL_3442287cbd034122915e2627270aeb8d",
       "IPY_MODEL_e593cde9c4224d12a7df6303bb4520a5"
      ],
      "layout": "IPY_MODEL_e3092bcf619649609cbc28ef15fa4d54"
     }
    },
    "7ca26a8a90a14dc491c74030d88b75e3": {
     "model_module": "@jupyter-widgets/controls",
     "model_module_version": "1.5.0",
     "model_name": "DescriptionStyleModel",
     "state": {
      "_model_module": "@jupyter-widgets/controls",
      "_model_module_version": "1.5.0",
      "_model_name": "DescriptionStyleModel",
      "_view_count": null,
      "_view_module": "@jupyter-widgets/base",
      "_view_module_version": "1.2.0",
      "_view_name": "StyleView",
      "description_width": ""
     }
    },
    "7ef3d95ea1ea496bb41897bef64c7e0e": {
     "model_module": "@jupyter-widgets/base",
     "model_module_version": "1.2.0",
     "model_name": "LayoutModel",
     "state": {
      "_model_module": "@jupyter-widgets/base",
      "_model_module_version": "1.2.0",
      "_model_name": "LayoutModel",
      "_view_count": null,
      "_view_module": "@jupyter-widgets/base",
      "_view_module_version": "1.2.0",
      "_view_name": "LayoutView",
      "align_content": null,
      "align_items": null,
      "align_self": null,
      "border": null,
      "bottom": null,
      "display": null,
      "flex": null,
      "flex_flow": null,
      "grid_area": null,
      "grid_auto_columns": null,
      "grid_auto_flow": null,
      "grid_auto_rows": null,
      "grid_column": null,
      "grid_gap": null,
      "grid_row": null,
      "grid_template_areas": null,
      "grid_template_columns": null,
      "grid_template_rows": null,
      "height": null,
      "justify_content": null,
      "justify_items": null,
      "left": null,
      "margin": null,
      "max_height": null,
      "max_width": null,
      "min_height": null,
      "min_width": null,
      "object_fit": null,
      "object_position": null,
      "order": null,
      "overflow": null,
      "overflow_x": null,
      "overflow_y": null,
      "padding": null,
      "right": null,
      "top": null,
      "visibility": null,
      "width": null
     }
    },
    "8133a2e5f76945a1b07437c5b7aafdf8": {
     "model_module": "@jupyter-widgets/controls",
     "model_module_version": "1.5.0",
     "model_name": "HTMLModel",
     "state": {
      "_dom_classes": [],
      "_model_module": "@jupyter-widgets/controls",
      "_model_module_version": "1.5.0",
      "_model_name": "HTMLModel",
      "_view_count": null,
      "_view_module": "@jupyter-widgets/controls",
      "_view_module_version": "1.5.0",
      "_view_name": "HTMLView",
      "description": "",
      "description_tooltip": null,
      "layout": "IPY_MODEL_42ffc78949f543099bfcbff115c4d96b",
      "placeholder": "​",
      "style": "IPY_MODEL_637658d7b18141e08be0969585f9166b",
      "value": " 3679/3680 [00:00&lt;00:00, 10183.76 examples/s]"
     }
    },
    "88c304a2ffc542ccbfbb0dec0132d33d": {
     "model_module": "@jupyter-widgets/base",
     "model_module_version": "1.2.0",
     "model_name": "LayoutModel",
     "state": {
      "_model_module": "@jupyter-widgets/base",
      "_model_module_version": "1.2.0",
      "_model_name": "LayoutModel",
      "_view_count": null,
      "_view_module": "@jupyter-widgets/base",
      "_view_module_version": "1.2.0",
      "_view_name": "LayoutView",
      "align_content": null,
      "align_items": null,
      "align_self": null,
      "border": null,
      "bottom": null,
      "display": null,
      "flex": null,
      "flex_flow": null,
      "grid_area": null,
      "grid_auto_columns": null,
      "grid_auto_flow": null,
      "grid_auto_rows": null,
      "grid_column": null,
      "grid_gap": null,
      "grid_row": null,
      "grid_template_areas": null,
      "grid_template_columns": null,
      "grid_template_rows": null,
      "height": null,
      "justify_content": null,
      "justify_items": null,
      "left": null,
      "margin": null,
      "max_height": null,
      "max_width": null,
      "min_height": null,
      "min_width": null,
      "object_fit": null,
      "object_position": null,
      "order": null,
      "overflow": null,
      "overflow_x": null,
      "overflow_y": null,
      "padding": null,
      "right": null,
      "top": null,
      "visibility": null,
      "width": null
     }
    },
    "8dc2fbeb0ff54b1aa5f1e6f6238123ce": {
     "model_module": "@jupyter-widgets/base",
     "model_module_version": "1.2.0",
     "model_name": "LayoutModel",
     "state": {
      "_model_module": "@jupyter-widgets/base",
      "_model_module_version": "1.2.0",
      "_model_name": "LayoutModel",
      "_view_count": null,
      "_view_module": "@jupyter-widgets/base",
      "_view_module_version": "1.2.0",
      "_view_name": "LayoutView",
      "align_content": null,
      "align_items": null,
      "align_self": null,
      "border": null,
      "bottom": null,
      "display": null,
      "flex": null,
      "flex_flow": null,
      "grid_area": null,
      "grid_auto_columns": null,
      "grid_auto_flow": null,
      "grid_auto_rows": null,
      "grid_column": null,
      "grid_gap": null,
      "grid_row": null,
      "grid_template_areas": null,
      "grid_template_columns": null,
      "grid_template_rows": null,
      "height": null,
      "justify_content": null,
      "justify_items": null,
      "left": null,
      "margin": null,
      "max_height": null,
      "max_width": null,
      "min_height": null,
      "min_width": null,
      "object_fit": null,
      "object_position": null,
      "order": null,
      "overflow": null,
      "overflow_x": null,
      "overflow_y": null,
      "padding": null,
      "right": null,
      "top": null,
      "visibility": null,
      "width": null
     }
    },
    "94cfb87411314d6ab5be41d2ff5e37c6": {
     "model_module": "@jupyter-widgets/base",
     "model_module_version": "1.2.0",
     "model_name": "LayoutModel",
     "state": {
      "_model_module": "@jupyter-widgets/base",
      "_model_module_version": "1.2.0",
      "_model_name": "LayoutModel",
      "_view_count": null,
      "_view_module": "@jupyter-widgets/base",
      "_view_module_version": "1.2.0",
      "_view_name": "LayoutView",
      "align_content": null,
      "align_items": null,
      "align_self": null,
      "border": null,
      "bottom": null,
      "display": null,
      "flex": null,
      "flex_flow": null,
      "grid_area": null,
      "grid_auto_columns": null,
      "grid_auto_flow": null,
      "grid_auto_rows": null,
      "grid_column": null,
      "grid_gap": null,
      "grid_row": null,
      "grid_template_areas": null,
      "grid_template_columns": null,
      "grid_template_rows": null,
      "height": null,
      "justify_content": null,
      "justify_items": null,
      "left": null,
      "margin": null,
      "max_height": null,
      "max_width": null,
      "min_height": null,
      "min_width": null,
      "object_fit": null,
      "object_position": null,
      "order": null,
      "overflow": null,
      "overflow_x": null,
      "overflow_y": null,
      "padding": null,
      "right": null,
      "top": null,
      "visibility": null,
      "width": null
     }
    },
    "9532f2e6912844dfab406ac91b6e895c": {
     "model_module": "@jupyter-widgets/controls",
     "model_module_version": "1.5.0",
     "model_name": "HTMLModel",
     "state": {
      "_dom_classes": [],
      "_model_module": "@jupyter-widgets/controls",
      "_model_module_version": "1.5.0",
      "_model_name": "HTMLModel",
      "_view_count": null,
      "_view_module": "@jupyter-widgets/controls",
      "_view_module_version": "1.5.0",
      "_view_name": "HTMLView",
      "description": "",
      "description_tooltip": null,
      "layout": "IPY_MODEL_73ccac3733cf41afa296e96d8f5ef1d8",
      "placeholder": "​",
      "style": "IPY_MODEL_c35e15a21ab346f78df0446c194c777a",
      "value": ""
     }
    },
    "9593757700bf466bb4f34268774c7ca0": {
     "model_module": "@jupyter-widgets/base",
     "model_module_version": "1.2.0",
     "model_name": "LayoutModel",
     "state": {
      "_model_module": "@jupyter-widgets/base",
      "_model_module_version": "1.2.0",
      "_model_name": "LayoutModel",
      "_view_count": null,
      "_view_module": "@jupyter-widgets/base",
      "_view_module_version": "1.2.0",
      "_view_name": "LayoutView",
      "align_content": null,
      "align_items": null,
      "align_self": null,
      "border": null,
      "bottom": null,
      "display": null,
      "flex": null,
      "flex_flow": null,
      "grid_area": null,
      "grid_auto_columns": null,
      "grid_auto_flow": null,
      "grid_auto_rows": null,
      "grid_column": null,
      "grid_gap": null,
      "grid_row": null,
      "grid_template_areas": null,
      "grid_template_columns": null,
      "grid_template_rows": null,
      "height": null,
      "justify_content": null,
      "justify_items": null,
      "left": null,
      "margin": null,
      "max_height": null,
      "max_width": null,
      "min_height": null,
      "min_width": null,
      "object_fit": null,
      "object_position": null,
      "order": null,
      "overflow": null,
      "overflow_x": null,
      "overflow_y": null,
      "padding": null,
      "right": null,
      "top": null,
      "visibility": null,
      "width": "20px"
     }
    },
    "980868db6c6146a1b112e4e06a007485": {
     "model_module": "@jupyter-widgets/controls",
     "model_module_version": "1.5.0",
     "model_name": "HTMLModel",
     "state": {
      "_dom_classes": [],
      "_model_module": "@jupyter-widgets/controls",
      "_model_module_version": "1.5.0",
      "_model_name": "HTMLModel",
      "_view_count": null,
      "_view_module": "@jupyter-widgets/controls",
      "_view_module_version": "1.5.0",
      "_view_name": "HTMLView",
      "description": "",
      "description_tooltip": null,
      "layout": "IPY_MODEL_bde84761864b42d5b363c6bf0e56f5d3",
      "placeholder": "​",
      "style": "IPY_MODEL_d29bb79ea1d94e4eb435571a64d3dfd3",
      "value": " 2/2 [00:34&lt;00:00, 18.92s/ file]"
     }
    },
    "9949d9cd8ae64ba3ae79393dc1c56495": {
     "model_module": "@jupyter-widgets/controls",
     "model_module_version": "1.5.0",
     "model_name": "HTMLModel",
     "state": {
      "_dom_classes": [],
      "_model_module": "@jupyter-widgets/controls",
      "_model_module_version": "1.5.0",
      "_model_name": "HTMLModel",
      "_view_count": null,
      "_view_module": "@jupyter-widgets/controls",
      "_view_module_version": "1.5.0",
      "_view_name": "HTMLView",
      "description": "",
      "description_tooltip": null,
      "layout": "IPY_MODEL_f8c060236e074afd80676e0b8c1a0048",
      "placeholder": "​",
      "style": "IPY_MODEL_ab1c15377e8a4f4ea1823ac8b859d915",
      "value": " 3668/3669 [00:00&lt;00:00, 9372.38 examples/s]"
     }
    },
    "9f0e014b96d94f44a62dd5d35e219f56": {
     "model_module": "@jupyter-widgets/controls",
     "model_module_version": "1.5.0",
     "model_name": "DescriptionStyleModel",
     "state": {
      "_model_module": "@jupyter-widgets/controls",
      "_model_module_version": "1.5.0",
      "_model_name": "DescriptionStyleModel",
      "_view_count": null,
      "_view_module": "@jupyter-widgets/base",
      "_view_module_version": "1.2.0",
      "_view_name": "StyleView",
      "description_width": ""
     }
    },
    "9f20b24d23014117b35143c9545f3176": {
     "model_module": "@jupyter-widgets/base",
     "model_module_version": "1.2.0",
     "model_name": "LayoutModel",
     "state": {
      "_model_module": "@jupyter-widgets/base",
      "_model_module_version": "1.2.0",
      "_model_name": "LayoutModel",
      "_view_count": null,
      "_view_module": "@jupyter-widgets/base",
      "_view_module_version": "1.2.0",
      "_view_name": "LayoutView",
      "align_content": null,
      "align_items": null,
      "align_self": null,
      "border": null,
      "bottom": null,
      "display": null,
      "flex": null,
      "flex_flow": null,
      "grid_area": null,
      "grid_auto_columns": null,
      "grid_auto_flow": null,
      "grid_auto_rows": null,
      "grid_column": null,
      "grid_gap": null,
      "grid_row": null,
      "grid_template_areas": null,
      "grid_template_columns": null,
      "grid_template_rows": null,
      "height": null,
      "justify_content": null,
      "justify_items": null,
      "left": null,
      "margin": null,
      "max_height": null,
      "max_width": null,
      "min_height": null,
      "min_width": null,
      "object_fit": null,
      "object_position": null,
      "order": null,
      "overflow": null,
      "overflow_x": null,
      "overflow_y": null,
      "padding": null,
      "right": null,
      "top": null,
      "visibility": null,
      "width": null
     }
    },
    "a08d8b079105466388c26633a8d70974": {
     "model_module": "@jupyter-widgets/controls",
     "model_module_version": "1.5.0",
     "model_name": "HBoxModel",
     "state": {
      "_dom_classes": [],
      "_model_module": "@jupyter-widgets/controls",
      "_model_module_version": "1.5.0",
      "_model_name": "HBoxModel",
      "_view_count": null,
      "_view_module": "@jupyter-widgets/controls",
      "_view_module_version": "1.5.0",
      "_view_name": "HBoxView",
      "box_style": "",
      "children": [
       "IPY_MODEL_b0a0e6c1e5db4860b602bfdc85df05ab",
       "IPY_MODEL_c294317c2ef14eab9f24cedceef42b4f",
       "IPY_MODEL_1e6053ee2e12447b9f503e8e957590f1"
      ],
      "layout": "IPY_MODEL_d8f51298ecdd41048df73010c52f2fb5"
     }
    },
    "a4800f0691a8494eb5d649320658c81e": {
     "model_module": "@jupyter-widgets/controls",
     "model_module_version": "1.5.0",
     "model_name": "HTMLModel",
     "state": {
      "_dom_classes": [],
      "_model_module": "@jupyter-widgets/controls",
      "_model_module_version": "1.5.0",
      "_model_name": "HTMLModel",
      "_view_count": null,
      "_view_module": "@jupyter-widgets/controls",
      "_view_module_version": "1.5.0",
      "_view_name": "HTMLView",
      "description": "",
      "description_tooltip": null,
      "layout": "IPY_MODEL_da77bc1828e4496383647cad7e10cc91",
      "placeholder": "​",
      "style": "IPY_MODEL_d1fa370418a44c8bb82b0a396933d01f",
      "value": "Extraction completed...: 100%"
     }
    },
    "ab1c15377e8a4f4ea1823ac8b859d915": {
     "model_module": "@jupyter-widgets/controls",
     "model_module_version": "1.5.0",
     "model_name": "DescriptionStyleModel",
     "state": {
      "_model_module": "@jupyter-widgets/controls",
      "_model_module_version": "1.5.0",
      "_model_name": "DescriptionStyleModel",
      "_view_count": null,
      "_view_module": "@jupyter-widgets/base",
      "_view_module_version": "1.2.0",
      "_view_name": "StyleView",
      "description_width": ""
     }
    },
    "b0a0e6c1e5db4860b602bfdc85df05ab": {
     "model_module": "@jupyter-widgets/controls",
     "model_module_version": "1.5.0",
     "model_name": "HTMLModel",
     "state": {
      "_dom_classes": [],
      "_model_module": "@jupyter-widgets/controls",
      "_model_module_version": "1.5.0",
      "_model_name": "HTMLModel",
      "_view_count": null,
      "_view_module": "@jupyter-widgets/controls",
      "_view_module_version": "1.5.0",
      "_view_name": "HTMLView",
      "description": "",
      "description_tooltip": null,
      "layout": "IPY_MODEL_74c13ee1deba474a95e8524e2b1b9524",
      "placeholder": "​",
      "style": "IPY_MODEL_b62723af64f2441b97bb77c8503b3ac7",
      "value": ""
     }
    },
    "b62723af64f2441b97bb77c8503b3ac7": {
     "model_module": "@jupyter-widgets/controls",
     "model_module_version": "1.5.0",
     "model_name": "DescriptionStyleModel",
     "state": {
      "_model_module": "@jupyter-widgets/controls",
      "_model_module_version": "1.5.0",
      "_model_name": "DescriptionStyleModel",
      "_view_count": null,
      "_view_module": "@jupyter-widgets/base",
      "_view_module_version": "1.2.0",
      "_view_name": "StyleView",
      "description_width": ""
     }
    },
    "b79c18ac2ac649e9acfef24da6c2bea1": {
     "model_module": "@jupyter-widgets/controls",
     "model_module_version": "1.5.0",
     "model_name": "HBoxModel",
     "state": {
      "_dom_classes": [],
      "_model_module": "@jupyter-widgets/controls",
      "_model_module_version": "1.5.0",
      "_model_name": "HBoxModel",
      "_view_count": null,
      "_view_module": "@jupyter-widgets/controls",
      "_view_module_version": "1.5.0",
      "_view_name": "HBoxView",
      "box_style": "",
      "children": [
       "IPY_MODEL_9532f2e6912844dfab406ac91b6e895c",
       "IPY_MODEL_51672d2ad99c400f9c4084a45fbea913",
       "IPY_MODEL_4bf384192418428e9d7b3c109341b714"
      ],
      "layout": "IPY_MODEL_8dc2fbeb0ff54b1aa5f1e6f6238123ce"
     }
    },
    "bde84761864b42d5b363c6bf0e56f5d3": {
     "model_module": "@jupyter-widgets/base",
     "model_module_version": "1.2.0",
     "model_name": "LayoutModel",
     "state": {
      "_model_module": "@jupyter-widgets/base",
      "_model_module_version": "1.2.0",
      "_model_name": "LayoutModel",
      "_view_count": null,
      "_view_module": "@jupyter-widgets/base",
      "_view_module_version": "1.2.0",
      "_view_name": "LayoutView",
      "align_content": null,
      "align_items": null,
      "align_self": null,
      "border": null,
      "bottom": null,
      "display": null,
      "flex": null,
      "flex_flow": null,
      "grid_area": null,
      "grid_auto_columns": null,
      "grid_auto_flow": null,
      "grid_auto_rows": null,
      "grid_column": null,
      "grid_gap": null,
      "grid_row": null,
      "grid_template_areas": null,
      "grid_template_columns": null,
      "grid_template_rows": null,
      "height": null,
      "justify_content": null,
      "justify_items": null,
      "left": null,
      "margin": null,
      "max_height": null,
      "max_width": null,
      "min_height": null,
      "min_width": null,
      "object_fit": null,
      "object_position": null,
      "order": null,
      "overflow": null,
      "overflow_x": null,
      "overflow_y": null,
      "padding": null,
      "right": null,
      "top": null,
      "visibility": null,
      "width": null
     }
    },
    "c294317c2ef14eab9f24cedceef42b4f": {
     "model_module": "@jupyter-widgets/controls",
     "model_module_version": "1.5.0",
     "model_name": "FloatProgressModel",
     "state": {
      "_dom_classes": [],
      "_model_module": "@jupyter-widgets/controls",
      "_model_module_version": "1.5.0",
      "_model_name": "FloatProgressModel",
      "_view_count": null,
      "_view_module": "@jupyter-widgets/controls",
      "_view_module_version": "1.5.0",
      "_view_name": "ProgressView",
      "bar_style": "info",
      "description": "",
      "description_tooltip": null,
      "layout": "IPY_MODEL_344673b65f974322b52b5798a35134a5",
      "max": 1,
      "min": 0,
      "orientation": "horizontal",
      "style": "IPY_MODEL_1b8a2344a0aa42b5b6687640932065d4",
      "value": 1
     }
    },
    "c35e15a21ab346f78df0446c194c777a": {
     "model_module": "@jupyter-widgets/controls",
     "model_module_version": "1.5.0",
     "model_name": "DescriptionStyleModel",
     "state": {
      "_model_module": "@jupyter-widgets/controls",
      "_model_module_version": "1.5.0",
      "_model_name": "DescriptionStyleModel",
      "_view_count": null,
      "_view_module": "@jupyter-widgets/base",
      "_view_module_version": "1.2.0",
      "_view_name": "StyleView",
      "description_width": ""
     }
    },
    "ccaef92185a74b748f389a9bd5074886": {
     "model_module": "@jupyter-widgets/controls",
     "model_module_version": "1.5.0",
     "model_name": "HBoxModel",
     "state": {
      "_dom_classes": [],
      "_model_module": "@jupyter-widgets/controls",
      "_model_module_version": "1.5.0",
      "_model_name": "HBoxModel",
      "_view_count": null,
      "_view_module": "@jupyter-widgets/controls",
      "_view_module_version": "1.5.0",
      "_view_name": "HBoxView",
      "box_style": "",
      "children": [
       "IPY_MODEL_1c4b227491b54cf3ba64b320d291564e",
       "IPY_MODEL_e751b62fc23043aa90d9e4efb1b98755",
       "IPY_MODEL_8133a2e5f76945a1b07437c5b7aafdf8"
      ],
      "layout": "IPY_MODEL_7ef3d95ea1ea496bb41897bef64c7e0e"
     }
    },
    "cd91675d50f244de8c438a6ed5108975": {
     "model_module": "@jupyter-widgets/controls",
     "model_module_version": "1.5.0",
     "model_name": "DescriptionStyleModel",
     "state": {
      "_model_module": "@jupyter-widgets/controls",
      "_model_module_version": "1.5.0",
      "_model_name": "DescriptionStyleModel",
      "_view_count": null,
      "_view_module": "@jupyter-widgets/base",
      "_view_module_version": "1.2.0",
      "_view_name": "StyleView",
      "description_width": ""
     }
    },
    "d1fa370418a44c8bb82b0a396933d01f": {
     "model_module": "@jupyter-widgets/controls",
     "model_module_version": "1.5.0",
     "model_name": "DescriptionStyleModel",
     "state": {
      "_model_module": "@jupyter-widgets/controls",
      "_model_module_version": "1.5.0",
      "_model_name": "DescriptionStyleModel",
      "_view_count": null,
      "_view_module": "@jupyter-widgets/base",
      "_view_module_version": "1.2.0",
      "_view_name": "StyleView",
      "description_width": ""
     }
    },
    "d29bb79ea1d94e4eb435571a64d3dfd3": {
     "model_module": "@jupyter-widgets/controls",
     "model_module_version": "1.5.0",
     "model_name": "DescriptionStyleModel",
     "state": {
      "_model_module": "@jupyter-widgets/controls",
      "_model_module_version": "1.5.0",
      "_model_name": "DescriptionStyleModel",
      "_view_count": null,
      "_view_module": "@jupyter-widgets/base",
      "_view_module_version": "1.2.0",
      "_view_name": "StyleView",
      "description_width": ""
     }
    },
    "d2f4c9b04e81450e8f5d55550f36c75e": {
     "model_module": "@jupyter-widgets/base",
     "model_module_version": "1.2.0",
     "model_name": "LayoutModel",
     "state": {
      "_model_module": "@jupyter-widgets/base",
      "_model_module_version": "1.2.0",
      "_model_name": "LayoutModel",
      "_view_count": null,
      "_view_module": "@jupyter-widgets/base",
      "_view_module_version": "1.2.0",
      "_view_name": "LayoutView",
      "align_content": null,
      "align_items": null,
      "align_self": null,
      "border": null,
      "bottom": null,
      "display": null,
      "flex": null,
      "flex_flow": null,
      "grid_area": null,
      "grid_auto_columns": null,
      "grid_auto_flow": null,
      "grid_auto_rows": null,
      "grid_column": null,
      "grid_gap": null,
      "grid_row": null,
      "grid_template_areas": null,
      "grid_template_columns": null,
      "grid_template_rows": null,
      "height": null,
      "justify_content": null,
      "justify_items": null,
      "left": null,
      "margin": null,
      "max_height": null,
      "max_width": null,
      "min_height": null,
      "min_width": null,
      "object_fit": null,
      "object_position": null,
      "order": null,
      "overflow": null,
      "overflow_x": null,
      "overflow_y": null,
      "padding": null,
      "right": null,
      "top": null,
      "visibility": null,
      "width": null
     }
    },
    "d5aa8844ecc34244ae88f1611ca60406": {
     "model_module": "@jupyter-widgets/base",
     "model_module_version": "1.2.0",
     "model_name": "LayoutModel",
     "state": {
      "_model_module": "@jupyter-widgets/base",
      "_model_module_version": "1.2.0",
      "_model_name": "LayoutModel",
      "_view_count": null,
      "_view_module": "@jupyter-widgets/base",
      "_view_module_version": "1.2.0",
      "_view_name": "LayoutView",
      "align_content": null,
      "align_items": null,
      "align_self": null,
      "border": null,
      "bottom": null,
      "display": null,
      "flex": null,
      "flex_flow": null,
      "grid_area": null,
      "grid_auto_columns": null,
      "grid_auto_flow": null,
      "grid_auto_rows": null,
      "grid_column": null,
      "grid_gap": null,
      "grid_row": null,
      "grid_template_areas": null,
      "grid_template_columns": null,
      "grid_template_rows": null,
      "height": null,
      "justify_content": null,
      "justify_items": null,
      "left": null,
      "margin": null,
      "max_height": null,
      "max_width": null,
      "min_height": null,
      "min_width": null,
      "object_fit": null,
      "object_position": null,
      "order": null,
      "overflow": null,
      "overflow_x": null,
      "overflow_y": null,
      "padding": null,
      "right": null,
      "top": null,
      "visibility": null,
      "width": null
     }
    },
    "d8f51298ecdd41048df73010c52f2fb5": {
     "model_module": "@jupyter-widgets/base",
     "model_module_version": "1.2.0",
     "model_name": "LayoutModel",
     "state": {
      "_model_module": "@jupyter-widgets/base",
      "_model_module_version": "1.2.0",
      "_model_name": "LayoutModel",
      "_view_count": null,
      "_view_module": "@jupyter-widgets/base",
      "_view_module_version": "1.2.0",
      "_view_name": "LayoutView",
      "align_content": null,
      "align_items": null,
      "align_self": null,
      "border": null,
      "bottom": null,
      "display": null,
      "flex": null,
      "flex_flow": null,
      "grid_area": null,
      "grid_auto_columns": null,
      "grid_auto_flow": null,
      "grid_auto_rows": null,
      "grid_column": null,
      "grid_gap": null,
      "grid_row": null,
      "grid_template_areas": null,
      "grid_template_columns": null,
      "grid_template_rows": null,
      "height": null,
      "justify_content": null,
      "justify_items": null,
      "left": null,
      "margin": null,
      "max_height": null,
      "max_width": null,
      "min_height": null,
      "min_width": null,
      "object_fit": null,
      "object_position": null,
      "order": null,
      "overflow": null,
      "overflow_x": null,
      "overflow_y": null,
      "padding": null,
      "right": null,
      "top": null,
      "visibility": null,
      "width": null
     }
    },
    "da77bc1828e4496383647cad7e10cc91": {
     "model_module": "@jupyter-widgets/base",
     "model_module_version": "1.2.0",
     "model_name": "LayoutModel",
     "state": {
      "_model_module": "@jupyter-widgets/base",
      "_model_module_version": "1.2.0",
      "_model_name": "LayoutModel",
      "_view_count": null,
      "_view_module": "@jupyter-widgets/base",
      "_view_module_version": "1.2.0",
      "_view_name": "LayoutView",
      "align_content": null,
      "align_items": null,
      "align_self": null,
      "border": null,
      "bottom": null,
      "display": null,
      "flex": null,
      "flex_flow": null,
      "grid_area": null,
      "grid_auto_columns": null,
      "grid_auto_flow": null,
      "grid_auto_rows": null,
      "grid_column": null,
      "grid_gap": null,
      "grid_row": null,
      "grid_template_areas": null,
      "grid_template_columns": null,
      "grid_template_rows": null,
      "height": null,
      "justify_content": null,
      "justify_items": null,
      "left": null,
      "margin": null,
      "max_height": null,
      "max_width": null,
      "min_height": null,
      "min_width": null,
      "object_fit": null,
      "object_position": null,
      "order": null,
      "overflow": null,
      "overflow_x": null,
      "overflow_y": null,
      "padding": null,
      "right": null,
      "top": null,
      "visibility": null,
      "width": null
     }
    },
    "e094e38289044c0b910893fb5220bd2b": {
     "model_module": "@jupyter-widgets/controls",
     "model_module_version": "1.5.0",
     "model_name": "HBoxModel",
     "state": {
      "_dom_classes": [],
      "_model_module": "@jupyter-widgets/controls",
      "_model_module_version": "1.5.0",
      "_model_name": "HBoxModel",
      "_view_count": null,
      "_view_module": "@jupyter-widgets/controls",
      "_view_module_version": "1.5.0",
      "_view_name": "HBoxView",
      "box_style": "",
      "children": [
       "IPY_MODEL_f0a59f69e83146b48989383a344576d4",
       "IPY_MODEL_2553b6676e1945d19273c375b9b20261",
       "IPY_MODEL_9949d9cd8ae64ba3ae79393dc1c56495"
      ],
      "layout": "IPY_MODEL_418781c840024c978a06801b4b406b70"
     }
    },
    "e0feb05decf142e98c38136fe132b510": {
     "model_module": "@jupyter-widgets/controls",
     "model_module_version": "1.5.0",
     "model_name": "ProgressStyleModel",
     "state": {
      "_model_module": "@jupyter-widgets/controls",
      "_model_module_version": "1.5.0",
      "_model_name": "ProgressStyleModel",
      "_view_count": null,
      "_view_module": "@jupyter-widgets/base",
      "_view_module_version": "1.2.0",
      "_view_name": "StyleView",
      "bar_color": null,
      "description_width": ""
     }
    },
    "e3092bcf619649609cbc28ef15fa4d54": {
     "model_module": "@jupyter-widgets/base",
     "model_module_version": "1.2.0",
     "model_name": "LayoutModel",
     "state": {
      "_model_module": "@jupyter-widgets/base",
      "_model_module_version": "1.2.0",
      "_model_name": "LayoutModel",
      "_view_count": null,
      "_view_module": "@jupyter-widgets/base",
      "_view_module_version": "1.2.0",
      "_view_name": "LayoutView",
      "align_content": null,
      "align_items": null,
      "align_self": null,
      "border": null,
      "bottom": null,
      "display": null,
      "flex": null,
      "flex_flow": null,
      "grid_area": null,
      "grid_auto_columns": null,
      "grid_auto_flow": null,
      "grid_auto_rows": null,
      "grid_column": null,
      "grid_gap": null,
      "grid_row": null,
      "grid_template_areas": null,
      "grid_template_columns": null,
      "grid_template_rows": null,
      "height": null,
      "justify_content": null,
      "justify_items": null,
      "left": null,
      "margin": null,
      "max_height": null,
      "max_width": null,
      "min_height": null,
      "min_width": null,
      "object_fit": null,
      "object_position": null,
      "order": null,
      "overflow": null,
      "overflow_x": null,
      "overflow_y": null,
      "padding": null,
      "right": null,
      "top": null,
      "visibility": null,
      "width": null
     }
    },
    "e593cde9c4224d12a7df6303bb4520a5": {
     "model_module": "@jupyter-widgets/controls",
     "model_module_version": "1.5.0",
     "model_name": "HTMLModel",
     "state": {
      "_dom_classes": [],
      "_model_module": "@jupyter-widgets/controls",
      "_model_module_version": "1.5.0",
      "_model_name": "HTMLModel",
      "_view_count": null,
      "_view_module": "@jupyter-widgets/controls",
      "_view_module_version": "1.5.0",
      "_view_name": "HTMLView",
      "description": "",
      "description_tooltip": null,
      "layout": "IPY_MODEL_34ea1291673344eebd58bd2d30b24610",
      "placeholder": "​",
      "style": "IPY_MODEL_0a695a7240fe4c0a947cd36c1948d308",
      "value": " 773/773 [00:34&lt;00:00, 30.28 MiB/s]"
     }
    },
    "e638155ab996446788be094dc1c3011f": {
     "model_module": "@jupyter-widgets/controls",
     "model_module_version": "1.5.0",
     "model_name": "DescriptionStyleModel",
     "state": {
      "_model_module": "@jupyter-widgets/controls",
      "_model_module_version": "1.5.0",
      "_model_name": "DescriptionStyleModel",
      "_view_count": null,
      "_view_module": "@jupyter-widgets/base",
      "_view_module_version": "1.2.0",
      "_view_name": "StyleView",
      "description_width": ""
     }
    },
    "e751b62fc23043aa90d9e4efb1b98755": {
     "model_module": "@jupyter-widgets/controls",
     "model_module_version": "1.5.0",
     "model_name": "FloatProgressModel",
     "state": {
      "_dom_classes": [],
      "_model_module": "@jupyter-widgets/controls",
      "_model_module_version": "1.5.0",
      "_model_name": "FloatProgressModel",
      "_view_count": null,
      "_view_module": "@jupyter-widgets/controls",
      "_view_module_version": "1.5.0",
      "_view_name": "ProgressView",
      "bar_style": "danger",
      "description": "",
      "description_tooltip": null,
      "layout": "IPY_MODEL_9f20b24d23014117b35143c9545f3176",
      "max": 3680,
      "min": 0,
      "orientation": "horizontal",
      "style": "IPY_MODEL_434add8136604c5e97f2117fbe59bb03",
      "value": 3679
     }
    },
    "eb46ba5f8309483ca2ecb62c8a2cca23": {
     "model_module": "@jupyter-widgets/controls",
     "model_module_version": "1.5.0",
     "model_name": "ProgressStyleModel",
     "state": {
      "_model_module": "@jupyter-widgets/controls",
      "_model_module_version": "1.5.0",
      "_model_name": "ProgressStyleModel",
      "_view_count": null,
      "_view_module": "@jupyter-widgets/base",
      "_view_module_version": "1.2.0",
      "_view_name": "StyleView",
      "bar_color": null,
      "description_width": ""
     }
    },
    "f0a59f69e83146b48989383a344576d4": {
     "model_module": "@jupyter-widgets/controls",
     "model_module_version": "1.5.0",
     "model_name": "HTMLModel",
     "state": {
      "_dom_classes": [],
      "_model_module": "@jupyter-widgets/controls",
      "_model_module_version": "1.5.0",
      "_model_name": "HTMLModel",
      "_view_count": null,
      "_view_module": "@jupyter-widgets/controls",
      "_view_module_version": "1.5.0",
      "_view_name": "HTMLView",
      "description": "",
      "description_tooltip": null,
      "layout": "IPY_MODEL_708034d836fb4a5bb866b62e98d2c462",
      "placeholder": "​",
      "style": "IPY_MODEL_7ca26a8a90a14dc491c74030d88b75e3",
      "value": "100%"
     }
    },
    "f8c060236e074afd80676e0b8c1a0048": {
     "model_module": "@jupyter-widgets/base",
     "model_module_version": "1.2.0",
     "model_name": "LayoutModel",
     "state": {
      "_model_module": "@jupyter-widgets/base",
      "_model_module_version": "1.2.0",
      "_model_name": "LayoutModel",
      "_view_count": null,
      "_view_module": "@jupyter-widgets/base",
      "_view_module_version": "1.2.0",
      "_view_name": "LayoutView",
      "align_content": null,
      "align_items": null,
      "align_self": null,
      "border": null,
      "bottom": null,
      "display": null,
      "flex": null,
      "flex_flow": null,
      "grid_area": null,
      "grid_auto_columns": null,
      "grid_auto_flow": null,
      "grid_auto_rows": null,
      "grid_column": null,
      "grid_gap": null,
      "grid_row": null,
      "grid_template_areas": null,
      "grid_template_columns": null,
      "grid_template_rows": null,
      "height": null,
      "justify_content": null,
      "justify_items": null,
      "left": null,
      "margin": null,
      "max_height": null,
      "max_width": null,
      "min_height": null,
      "min_width": null,
      "object_fit": null,
      "object_position": null,
      "order": null,
      "overflow": null,
      "overflow_x": null,
      "overflow_y": null,
      "padding": null,
      "right": null,
      "top": null,
      "visibility": null,
      "width": null
     }
    },
    "faca5258bd424812a0b7d616bcc4dec2": {
     "model_module": "@jupyter-widgets/base",
     "model_module_version": "1.2.0",
     "model_name": "LayoutModel",
     "state": {
      "_model_module": "@jupyter-widgets/base",
      "_model_module_version": "1.2.0",
      "_model_name": "LayoutModel",
      "_view_count": null,
      "_view_module": "@jupyter-widgets/base",
      "_view_module_version": "1.2.0",
      "_view_name": "LayoutView",
      "align_content": null,
      "align_items": null,
      "align_self": null,
      "border": null,
      "bottom": null,
      "display": null,
      "flex": null,
      "flex_flow": null,
      "grid_area": null,
      "grid_auto_columns": null,
      "grid_auto_flow": null,
      "grid_auto_rows": null,
      "grid_column": null,
      "grid_gap": null,
      "grid_row": null,
      "grid_template_areas": null,
      "grid_template_columns": null,
      "grid_template_rows": null,
      "height": null,
      "justify_content": null,
      "justify_items": null,
      "left": null,
      "margin": null,
      "max_height": null,
      "max_width": null,
      "min_height": null,
      "min_width": null,
      "object_fit": null,
      "object_position": null,
      "order": null,
      "overflow": null,
      "overflow_x": null,
      "overflow_y": null,
      "padding": null,
      "right": null,
      "top": null,
      "visibility": null,
      "width": "20px"
     }
    },
    "fd2b72c12dda4a1795d8e393e72e4ef9": {
     "model_module": "@jupyter-widgets/base",
     "model_module_version": "1.2.0",
     "model_name": "LayoutModel",
     "state": {
      "_model_module": "@jupyter-widgets/base",
      "_model_module_version": "1.2.0",
      "_model_name": "LayoutModel",
      "_view_count": null,
      "_view_module": "@jupyter-widgets/base",
      "_view_module_version": "1.2.0",
      "_view_name": "LayoutView",
      "align_content": null,
      "align_items": null,
      "align_self": null,
      "border": null,
      "bottom": null,
      "display": null,
      "flex": null,
      "flex_flow": null,
      "grid_area": null,
      "grid_auto_columns": null,
      "grid_auto_flow": null,
      "grid_auto_rows": null,
      "grid_column": null,
      "grid_gap": null,
      "grid_row": null,
      "grid_template_areas": null,
      "grid_template_columns": null,
      "grid_template_rows": null,
      "height": null,
      "justify_content": null,
      "justify_items": null,
      "left": null,
      "margin": null,
      "max_height": null,
      "max_width": null,
      "min_height": null,
      "min_width": null,
      "object_fit": null,
      "object_position": null,
      "order": null,
      "overflow": null,
      "overflow_x": null,
      "overflow_y": null,
      "padding": null,
      "right": null,
      "top": null,
      "visibility": null,
      "width": null
     }
    }
   }
  }
 },
 "nbformat": 4,
 "nbformat_minor": 1
}
